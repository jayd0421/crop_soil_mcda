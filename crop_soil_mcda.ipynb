{
 "cells": [
  {
   "cell_type": "code",
   "execution_count": 136,
   "id": "50f1f9b7",
   "metadata": {},
   "outputs": [
    {
     "data": {
      "text/html": [
       "\n",
       "            <style>\n",
       "                .geemap-dark {\n",
       "                    --jp-widgets-color: white;\n",
       "                    --jp-widgets-label-color: white;\n",
       "                    --jp-ui-font-color1: white;\n",
       "                    --jp-layout-color2: #454545;\n",
       "                    background-color: #383838;\n",
       "                }\n",
       "\n",
       "                .geemap-dark .jupyter-button {\n",
       "                    --jp-layout-color3: #383838;\n",
       "                }\n",
       "\n",
       "                .geemap-colab {\n",
       "                    background-color: var(--colab-primary-surface-color, white);\n",
       "                }\n",
       "\n",
       "                .geemap-colab .jupyter-button {\n",
       "                    --jp-layout-color3: var(--colab-primary-surface-color, white);\n",
       "                }\n",
       "            </style>\n",
       "            "
      ],
      "text/plain": [
       "<IPython.core.display.HTML object>"
      ]
     },
     "metadata": {},
     "output_type": "display_data"
    }
   ],
   "source": [
    "# Import modules\n",
    "import ee\n",
    "import geemap\n",
    "import geopandas as gpd"
   ]
  },
  {
   "cell_type": "code",
   "execution_count": 137,
   "id": "195b4dae",
   "metadata": {},
   "outputs": [
    {
     "data": {
      "text/html": [
       "\n",
       "            <style>\n",
       "                .geemap-dark {\n",
       "                    --jp-widgets-color: white;\n",
       "                    --jp-widgets-label-color: white;\n",
       "                    --jp-ui-font-color1: white;\n",
       "                    --jp-layout-color2: #454545;\n",
       "                    background-color: #383838;\n",
       "                }\n",
       "\n",
       "                .geemap-dark .jupyter-button {\n",
       "                    --jp-layout-color3: #383838;\n",
       "                }\n",
       "\n",
       "                .geemap-colab {\n",
       "                    background-color: var(--colab-primary-surface-color, white);\n",
       "                }\n",
       "\n",
       "                .geemap-colab .jupyter-button {\n",
       "                    --jp-layout-color3: var(--colab-primary-surface-color, white);\n",
       "                }\n",
       "            </style>\n",
       "            "
      ],
      "text/plain": [
       "<IPython.core.display.HTML object>"
      ]
     },
     "metadata": {},
     "output_type": "display_data"
    }
   ],
   "source": [
    "# Import MCDA functions\n",
    "%run individual_mcda/organic_carbon.ipynb\n",
    "%run individual_mcda/rainfall.ipynb\n",
    "%run individual_mcda/pH.ipynb\n",
    "%run individual_mcda/macro_micro_nutrients.ipynb"
   ]
  },
  {
   "cell_type": "code",
   "execution_count": 138,
   "id": "42d95ae3",
   "metadata": {},
   "outputs": [
    {
     "data": {
      "text/html": [
       "\n",
       "            <style>\n",
       "                .geemap-dark {\n",
       "                    --jp-widgets-color: white;\n",
       "                    --jp-widgets-label-color: white;\n",
       "                    --jp-ui-font-color1: white;\n",
       "                    --jp-layout-color2: #454545;\n",
       "                    background-color: #383838;\n",
       "                }\n",
       "\n",
       "                .geemap-dark .jupyter-button {\n",
       "                    --jp-layout-color3: #383838;\n",
       "                }\n",
       "\n",
       "                .geemap-colab {\n",
       "                    background-color: var(--colab-primary-surface-color, white);\n",
       "                }\n",
       "\n",
       "                .geemap-colab .jupyter-button {\n",
       "                    --jp-layout-color3: var(--colab-primary-surface-color, white);\n",
       "                }\n",
       "            </style>\n",
       "            "
      ],
      "text/plain": [
       "<IPython.core.display.HTML object>"
      ]
     },
     "metadata": {},
     "output_type": "display_data"
    }
   ],
   "source": [
    "# Initialize Earth Engine\n",
    "try:\n",
    "    ee.Initialize()\n",
    "except ee.EEException:\n",
    "    ee.Authenticate()"
   ]
  },
  {
   "cell_type": "code",
   "execution_count": 139,
   "id": "c5af1f24",
   "metadata": {},
   "outputs": [
    {
     "data": {
      "text/html": [
       "\n",
       "            <style>\n",
       "                .geemap-dark {\n",
       "                    --jp-widgets-color: white;\n",
       "                    --jp-widgets-label-color: white;\n",
       "                    --jp-ui-font-color1: white;\n",
       "                    --jp-layout-color2: #454545;\n",
       "                    background-color: #383838;\n",
       "                }\n",
       "\n",
       "                .geemap-dark .jupyter-button {\n",
       "                    --jp-layout-color3: #383838;\n",
       "                }\n",
       "\n",
       "                .geemap-colab {\n",
       "                    background-color: var(--colab-primary-surface-color, white);\n",
       "                }\n",
       "\n",
       "                .geemap-colab .jupyter-button {\n",
       "                    --jp-layout-color3: var(--colab-primary-surface-color, white);\n",
       "                }\n",
       "            </style>\n",
       "            "
      ],
      "text/plain": [
       "<IPython.core.display.HTML object>"
      ]
     },
     "metadata": {},
     "output_type": "display_data"
    }
   ],
   "source": [
    "# Open source table as a dataframe\n",
    "# country_gpkg = r\"data\\zambia_boundary.gpkg\"\n",
    "country_gpkg = r\"C:\\Users\\jedid\\Documents\\Code\\github\\crop_soil_mcda\\data\\zambia_boundary.gpkg\"\n",
    "country_gdf = gpd.read_file(country_gpkg)\n",
    "country_ee = geemap.gdf_to_ee(country_gdf)\n",
    "\n",
    "# Preview the data\n",
    "# country_gdf.head()"
   ]
  },
  {
   "cell_type": "code",
   "execution_count": 140,
   "id": "aca2e556",
   "metadata": {},
   "outputs": [
    {
     "data": {
      "text/html": [
       "\n",
       "            <style>\n",
       "                .geemap-dark {\n",
       "                    --jp-widgets-color: white;\n",
       "                    --jp-widgets-label-color: white;\n",
       "                    --jp-ui-font-color1: white;\n",
       "                    --jp-layout-color2: #454545;\n",
       "                    background-color: #383838;\n",
       "                }\n",
       "\n",
       "                .geemap-dark .jupyter-button {\n",
       "                    --jp-layout-color3: #383838;\n",
       "                }\n",
       "\n",
       "                .geemap-colab {\n",
       "                    background-color: var(--colab-primary-surface-color, white);\n",
       "                }\n",
       "\n",
       "                .geemap-colab .jupyter-button {\n",
       "                    --jp-layout-color3: var(--colab-primary-surface-color, white);\n",
       "                }\n",
       "            </style>\n",
       "            "
      ],
      "text/plain": [
       "<IPython.core.display.HTML object>"
      ]
     },
     "metadata": {},
     "output_type": "display_data"
    }
   ],
   "source": [
    "crop = \"Maize\"\n",
    "rain_start = 2019\n",
    "rain_end = 2025\n"
   ]
  },
  {
   "cell_type": "code",
   "execution_count": null,
   "id": "514b9a2f",
   "metadata": {},
   "outputs": [],
   "source": [
    "def get_mcda_image(crop, rain_start, rain_end):\n",
    "    # Get individual email\n",
    "    rainfall_mcda_image = get_rainfall_suitability_image(crop, rain_start, rain_end, country_ee)\n",
    "    carbon_mcda_image = get_carbon_organic_suitability_image(crop, country_ee)\n",
    "    ph_mcda_image = get_ph_suitability_image(crop, country_ee)\n",
    "    phosphorus_mcda_image = get_nutrient_suitability_image(crop, 'phosphorus', country_ee)\n",
    "    nitrogen_mcda_image = get_nutrient_suitability_image(crop, 'nitrogen', country_ee)\n",
    "    potassium_mcda_image = get_nutrient_suitability_image(crop, 'potassium', country_ee)\n",
    "    calcium_mcda_image = get_nutrient_suitability_image(crop, 'calcium', country_ee)\n",
    "    magnesium_mcda_image = get_nutrient_suitability_image(crop, 'magnesium', country_ee)\n",
    "    sulphur_mcda_image = get_nutrient_suitability_image(crop, 'sulphur', country_ee)\n",
    "    zinc_mcda_image = get_nutrient_suitability_image(crop, 'zinc', country_ee)\n",
    "\n",
    "    # Define weights for each criteria (they should sum to 1 for a normalized result)\n",
    "    w_rainfall = 0.15\n",
    "    w_carbon = 0.10\n",
    "    w_ph = 0.10\n",
    "    w_phosphorus = 0.10\n",
    "    w_nitrogen = 0.15\n",
    "    w_potassium = 0.10\n",
    "    w_calcium = 0.10\n",
    "    w_magnesium = 0.10\n",
    "    w_sulphur = 0.10\n",
    "\n",
    "    # Get MCDA Image\n",
    "    mcda_image = rainfall_mcda_image \\\n",
    "        .add(carbon_mcda_image) \\\n",
    "        .add(ph_mcda_image) \\\n",
    "        .add(phosphorus_mcda_image) \\\n",
    "        .add(nitrogen_mcda_image) \\\n",
    "        .add(potassium_mcda_image) \\\n",
    "        .add(calcium_mcda_image) \\\n",
    "        .add(magnesium_mcda_image) \\\n",
    "        .add(sulphur_mcda_image)\n",
    "    \n",
    "    return mcda_image"
   ]
  },
  {
   "cell_type": "code",
   "execution_count": 144,
   "id": "088911da",
   "metadata": {},
   "outputs": [
    {
     "data": {
      "text/html": [
       "\n",
       "            <style>\n",
       "                .geemap-dark {\n",
       "                    --jp-widgets-color: white;\n",
       "                    --jp-widgets-label-color: white;\n",
       "                    --jp-ui-font-color1: white;\n",
       "                    --jp-layout-color2: #454545;\n",
       "                    background-color: #383838;\n",
       "                }\n",
       "\n",
       "                .geemap-dark .jupyter-button {\n",
       "                    --jp-layout-color3: #383838;\n",
       "                }\n",
       "\n",
       "                .geemap-colab {\n",
       "                    background-color: var(--colab-primary-surface-color, white);\n",
       "                }\n",
       "\n",
       "                .geemap-colab .jupyter-button {\n",
       "                    --jp-layout-color3: var(--colab-primary-surface-color, white);\n",
       "                }\n",
       "            </style>\n",
       "            "
      ],
      "text/plain": [
       "<IPython.core.display.HTML object>"
      ]
     },
     "metadata": {},
     "output_type": "display_data"
    }
   ],
   "source": [
    "# Visualisation parameters\n",
    "mcda_vis_params = {\n",
    "    'palette': ['darkred', 'red', 'yellow', 'green', 'darkgreen'],\n",
    "               'min': 0, 'max': 27\n",
    "        }       "
   ]
  },
  {
   "cell_type": "code",
   "execution_count": 145,
   "id": "67dd51b8",
   "metadata": {},
   "outputs": [
    {
     "data": {
      "text/html": [
       "\n",
       "            <style>\n",
       "                .geemap-dark {\n",
       "                    --jp-widgets-color: white;\n",
       "                    --jp-widgets-label-color: white;\n",
       "                    --jp-ui-font-color1: white;\n",
       "                    --jp-layout-color2: #454545;\n",
       "                    background-color: #383838;\n",
       "                }\n",
       "\n",
       "                .geemap-dark .jupyter-button {\n",
       "                    --jp-layout-color3: #383838;\n",
       "                }\n",
       "\n",
       "                .geemap-colab {\n",
       "                    background-color: var(--colab-primary-surface-color, white);\n",
       "                }\n",
       "\n",
       "                .geemap-colab .jupyter-button {\n",
       "                    --jp-layout-color3: var(--colab-primary-surface-color, white);\n",
       "                }\n",
       "            </style>\n",
       "            "
      ],
      "text/plain": [
       "<IPython.core.display.HTML object>"
      ]
     },
     "metadata": {},
     "output_type": "display_data"
    },
    {
     "data": {
      "application/vnd.jupyter.widget-view+json": {
       "model_id": "a11215d5af384f79872d1897016c4c59",
       "version_major": 2,
       "version_minor": 0
      },
      "text/plain": [
       "Map(center=[0, 0], controls=(WidgetControl(options=['position', 'transparent_bg'], widget=SearchDataGUI(childr…"
      ]
     },
     "execution_count": 145,
     "metadata": {},
     "output_type": "execute_result"
    }
   ],
   "source": [
    "# Visualise layers\n",
    "m = geemap.Map()\n",
    "m.zoom_to_gdf(country_gdf)\n",
    "\n",
    "m.add_layer(country_ee, name= 'Zambia')\n",
    "\n",
    "m.add_ee_layer(mcda_image, vis_params= mcda_vis_params, name= f\"{crop} Suitability\")\n",
    "m.add_colorbar(mcda_vis_params, orientation='vertical',  \n",
    "               label= f\"{crop} Suitability\", layer_name= f\"{crop} Suitability\")\n",
    "m"
   ]
  }
 ],
 "metadata": {
  "kernelspec": {
   "display_name": "geoProg",
   "language": "python",
   "name": "python3"
  },
  "language_info": {
   "codemirror_mode": {
    "name": "ipython",
    "version": 3
   },
   "file_extension": ".py",
   "mimetype": "text/x-python",
   "name": "python",
   "nbconvert_exporter": "python",
   "pygments_lexer": "ipython3",
   "version": "3.11.11"
  }
 },
 "nbformat": 4,
 "nbformat_minor": 5
}
