{
 "cells": [
  {
   "cell_type": "code",
   "execution_count": 2,
   "id": "50f1f9b7",
   "metadata": {},
   "outputs": [],
   "source": [
    "# Import modules\n",
    "import ee\n",
    "import geemap\n",
    "import geopandas as gpd\n",
    "import numpy as np"
   ]
  },
  {
   "cell_type": "code",
   "execution_count": 3,
   "id": "42d95ae3",
   "metadata": {},
   "outputs": [
    {
     "data": {
      "text/html": [
       "\n",
       "            <style>\n",
       "                .geemap-dark {\n",
       "                    --jp-widgets-color: white;\n",
       "                    --jp-widgets-label-color: white;\n",
       "                    --jp-ui-font-color1: white;\n",
       "                    --jp-layout-color2: #454545;\n",
       "                    background-color: #383838;\n",
       "                }\n",
       "\n",
       "                .geemap-dark .jupyter-button {\n",
       "                    --jp-layout-color3: #383838;\n",
       "                }\n",
       "\n",
       "                .geemap-colab {\n",
       "                    background-color: var(--colab-primary-surface-color, white);\n",
       "                }\n",
       "\n",
       "                .geemap-colab .jupyter-button {\n",
       "                    --jp-layout-color3: var(--colab-primary-surface-color, white);\n",
       "                }\n",
       "            </style>\n",
       "            "
      ],
      "text/plain": [
       "<IPython.core.display.HTML object>"
      ]
     },
     "metadata": {},
     "output_type": "display_data"
    }
   ],
   "source": [
    "# Initialize Earth Engine\n",
    "try:\n",
    "    ee.Initialize()\n",
    "except ee.EEException:\n",
    "    ee.Authenticate()"
   ]
  },
  {
   "cell_type": "code",
   "execution_count": 4,
   "id": "c5af1f24",
   "metadata": {},
   "outputs": [
    {
     "data": {
      "text/html": [
       "\n",
       "            <style>\n",
       "                .geemap-dark {\n",
       "                    --jp-widgets-color: white;\n",
       "                    --jp-widgets-label-color: white;\n",
       "                    --jp-ui-font-color1: white;\n",
       "                    --jp-layout-color2: #454545;\n",
       "                    background-color: #383838;\n",
       "                }\n",
       "\n",
       "                .geemap-dark .jupyter-button {\n",
       "                    --jp-layout-color3: #383838;\n",
       "                }\n",
       "\n",
       "                .geemap-colab {\n",
       "                    background-color: var(--colab-primary-surface-color, white);\n",
       "                }\n",
       "\n",
       "                .geemap-colab .jupyter-button {\n",
       "                    --jp-layout-color3: var(--colab-primary-surface-color, white);\n",
       "                }\n",
       "            </style>\n",
       "            "
      ],
      "text/plain": [
       "<IPython.core.display.HTML object>"
      ]
     },
     "metadata": {},
     "output_type": "display_data"
    }
   ],
   "source": [
    "# Open source table as a dataframe\n",
    "# country_gpkg = r\"data\\zambia_boundary.gpkg\"\n",
    "country_gpkg = r\"C:\\Users\\jedid\\Documents\\Code\\github\\crop_soil_mcda\\data\\zambia_boundary.gpkg\"\n",
    "country_gdf = gpd.read_file(country_gpkg)\n",
    "\n",
    "# Preview the data\n",
    "# country_gdf.head()"
   ]
  },
  {
   "cell_type": "code",
   "execution_count": 20,
   "id": "cd48420a",
   "metadata": {},
   "outputs": [
    {
     "data": {
      "text/html": [
       "\n",
       "            <style>\n",
       "                .geemap-dark {\n",
       "                    --jp-widgets-color: white;\n",
       "                    --jp-widgets-label-color: white;\n",
       "                    --jp-ui-font-color1: white;\n",
       "                    --jp-layout-color2: #454545;\n",
       "                    background-color: #383838;\n",
       "                }\n",
       "\n",
       "                .geemap-dark .jupyter-button {\n",
       "                    --jp-layout-color3: #383838;\n",
       "                }\n",
       "\n",
       "                .geemap-colab {\n",
       "                    background-color: var(--colab-primary-surface-color, white);\n",
       "                }\n",
       "\n",
       "                .geemap-colab .jupyter-button {\n",
       "                    --jp-layout-color3: var(--colab-primary-surface-color, white);\n",
       "                }\n",
       "            </style>\n",
       "            "
      ],
      "text/plain": [
       "<IPython.core.display.HTML object>"
      ]
     },
     "metadata": {},
     "output_type": "display_data"
    }
   ],
   "source": [
    "def get_vis_params(image, aoi):\n",
    "    # reduceRegion to get the minimum ph in the AOI\n",
    "    min_ph = image.reduceRegion(\n",
    "        reducer=ee.Reducer.min(),\n",
    "        geometry=aoi,\n",
    "        scale=3000,  # iSDA dataset native resolution\n",
    "        maxPixels=9e8\n",
    "    )\n",
    "\n",
    "    # reduceRegion to get the maximum ph in the AOI\n",
    "    max_ph = image.reduceRegion(\n",
    "    reducer=ee.Reducer.max(),\n",
    "    geometry=aoi,\n",
    "    scale=3000,  # iSDA dataset native resolution\n",
    "    maxPixels=9e8\n",
    "    )\n",
    "\n",
    "    # Get the result and print the minimum value\n",
    "    try:\n",
    "        ph_min_max = [min_ph.getInfo()['mean_0_20'], \n",
    "                            max_ph.getInfo()['mean_0_20']]\n",
    "        vis_params = {'palette': ['darkred', 'red', \n",
    "                          'white', 'lightblue', 'blue', 'darkblue'],\n",
    "               'min': ph_min_max[0], 'max': ph_min_max[1]}\n",
    "        \n",
    "    except KeyError:\n",
    "        ph_min_max = [min_ph.getInfo()['constant'], \n",
    "                            max_ph.getInfo()['constant']]\n",
    "        vis_params = {'palette': ['darkred', 'yellow', 'green', 'darkgreen'],\n",
    "                'min': ph_min_max[0], 'max': ph_min_max[1]}\n",
    "    \n",
    "    return vis_params"
   ]
  },
  {
   "cell_type": "code",
   "execution_count": 14,
   "id": "bb6929b1",
   "metadata": {},
   "outputs": [
    {
     "data": {
      "text/html": [
       "\n",
       "            <style>\n",
       "                .geemap-dark {\n",
       "                    --jp-widgets-color: white;\n",
       "                    --jp-widgets-label-color: white;\n",
       "                    --jp-ui-font-color1: white;\n",
       "                    --jp-layout-color2: #454545;\n",
       "                    background-color: #383838;\n",
       "                }\n",
       "\n",
       "                .geemap-dark .jupyter-button {\n",
       "                    --jp-layout-color3: #383838;\n",
       "                }\n",
       "\n",
       "                .geemap-colab {\n",
       "                    background-color: var(--colab-primary-surface-color, white);\n",
       "                }\n",
       "\n",
       "                .geemap-colab .jupyter-button {\n",
       "                    --jp-layout-color3: var(--colab-primary-surface-color, white);\n",
       "                }\n",
       "            </style>\n",
       "            "
      ],
      "text/plain": [
       "<IPython.core.display.HTML object>"
      ]
     },
     "metadata": {},
     "output_type": "display_data"
    }
   ],
   "source": [
    "# Get ranked ph suitability\n",
    "def ranked_ph_suitability_image(crop, image, aoi):\n",
    "    suitability_ranges = {\n",
    "        'Soybean':    [(5.5, 7, 3), (5, 5.5, 2), (7, 7.5, 2), (4.5, 5, 1), (7.5, 8, 1)],\n",
    "        'Groundnut':  [(5, 6.5, 3), (4.5, 5, 2), (6.5, 7, 2), (4, 4.5, 1), (7, 7.5, 1)],\n",
    "        'Sugarbean':  [(5.5, 7.5, 3), (5, 5.5, 2), (7.5, 8, 2), (4.5, 5, 1), (8, 8.5, 1)],\n",
    "        'Navybean':   [(5.5, 7.5, 3), (5, 5.5, 2), (7.5, 8, 2), (4.5, 5, 1), (8, 8.5, 1)],\n",
    "        'Maize':      [(5.5, 7.5, 3), (5, 5.5, 2), (7.5, 8, 2), (4.5, 5, 1), (8, 8.5, 1)],\n",
    "        'Cowpea':     [(5, 6.5, 3), (4.5, 5, 2), (6.5, 7, 2), (4, 4.5, 1), (7, 7.5, 1)],\n",
    "        'Sunflower':  [(5, 6.5, 3), (4.5, 5, 2), (6.5, 7, 2), (4, 4.5, 1), (7, 7.5, 1)],\n",
    "    }\n",
    "\n",
    "    crop = crop.strip().replace(\" \", \"\").title()\n",
    "    ranges = suitability_ranges[crop]\n",
    "\n",
    "    # Default suitability of 0 (no suitability)\n",
    "    suitability_image = ee.Image(0).clip(aoi)\n",
    "\n",
    "    # Apply suitability levels\n",
    "    for (min_val, max_val, score) in ranges:\n",
    "        mask = image.gte(min_val).And(image.lt(max_val))\n",
    "        suitability_image = suitability_image.where(mask, score)\n",
    "\n",
    "    return suitability_image"
   ]
  },
  {
   "cell_type": "code",
   "execution_count": 22,
   "id": "56dc2a0a",
   "metadata": {},
   "outputs": [
    {
     "data": {
      "text/html": [
       "\n",
       "            <style>\n",
       "                .geemap-dark {\n",
       "                    --jp-widgets-color: white;\n",
       "                    --jp-widgets-label-color: white;\n",
       "                    --jp-ui-font-color1: white;\n",
       "                    --jp-layout-color2: #454545;\n",
       "                    background-color: #383838;\n",
       "                }\n",
       "\n",
       "                .geemap-dark .jupyter-button {\n",
       "                    --jp-layout-color3: #383838;\n",
       "                }\n",
       "\n",
       "                .geemap-colab {\n",
       "                    background-color: var(--colab-primary-surface-color, white);\n",
       "                }\n",
       "\n",
       "                .geemap-colab .jupyter-button {\n",
       "                    --jp-layout-color3: var(--colab-primary-surface-color, white);\n",
       "                }\n",
       "            </style>\n",
       "            "
      ],
      "text/plain": [
       "<IPython.core.display.HTML object>"
      ]
     },
     "metadata": {},
     "output_type": "display_data"
    }
   ],
   "source": [
    "# Convert county from gdf to ee\n",
    "country_ee = geemap.gdf_to_ee(country_gdf)\n",
    "\n",
    "# Import ph dataset from GEE\n",
    "raw_pH_dataset = ee.Image(\"ISDASOIL/Africa/v1/ph\") \\\n",
    "            .select('mean_0_20').clip(country_ee)\n",
    "\n",
    "crop = \"Groundnut\"\n",
    "\n",
    "pH_dataset = raw_pH_dataset.divide(10)\n",
    "\n",
    "# Get ranked crop suitable average ph\n",
    "ranked_suitable_ph = ranked_ph_suitability_image(crop, pH_dataset, country_ee)\n"
   ]
  },
  {
   "cell_type": "code",
   "execution_count": 23,
   "id": "088911da",
   "metadata": {},
   "outputs": [
    {
     "data": {
      "text/html": [
       "\n",
       "            <style>\n",
       "                .geemap-dark {\n",
       "                    --jp-widgets-color: white;\n",
       "                    --jp-widgets-label-color: white;\n",
       "                    --jp-ui-font-color1: white;\n",
       "                    --jp-layout-color2: #454545;\n",
       "                    background-color: #383838;\n",
       "                }\n",
       "\n",
       "                .geemap-dark .jupyter-button {\n",
       "                    --jp-layout-color3: #383838;\n",
       "                }\n",
       "\n",
       "                .geemap-colab {\n",
       "                    background-color: var(--colab-primary-surface-color, white);\n",
       "                }\n",
       "\n",
       "                .geemap-colab .jupyter-button {\n",
       "                    --jp-layout-color3: var(--colab-primary-surface-color, white);\n",
       "                }\n",
       "            </style>\n",
       "            "
      ],
      "text/plain": [
       "<IPython.core.display.HTML object>"
      ]
     },
     "metadata": {},
     "output_type": "display_data"
    }
   ],
   "source": [
    "# ph visualisastion parameters\n",
    "ph_vis_params = get_vis_params(pH_dataset, country_ee)\n",
    "ranked_ph_vis_params = get_vis_params(ranked_suitable_ph, country_ee)"
   ]
  },
  {
   "cell_type": "code",
   "execution_count": 25,
   "id": "67dd51b8",
   "metadata": {},
   "outputs": [
    {
     "data": {
      "text/html": [
       "\n",
       "            <style>\n",
       "                .geemap-dark {\n",
       "                    --jp-widgets-color: white;\n",
       "                    --jp-widgets-label-color: white;\n",
       "                    --jp-ui-font-color1: white;\n",
       "                    --jp-layout-color2: #454545;\n",
       "                    background-color: #383838;\n",
       "                }\n",
       "\n",
       "                .geemap-dark .jupyter-button {\n",
       "                    --jp-layout-color3: #383838;\n",
       "                }\n",
       "\n",
       "                .geemap-colab {\n",
       "                    background-color: var(--colab-primary-surface-color, white);\n",
       "                }\n",
       "\n",
       "                .geemap-colab .jupyter-button {\n",
       "                    --jp-layout-color3: var(--colab-primary-surface-color, white);\n",
       "                }\n",
       "            </style>\n",
       "            "
      ],
      "text/plain": [
       "<IPython.core.display.HTML object>"
      ]
     },
     "metadata": {},
     "output_type": "display_data"
    },
    {
     "data": {
      "application/vnd.jupyter.widget-view+json": {
       "model_id": "3d70ba582e39445295ab56ae1e8ca21c",
       "version_major": 2,
       "version_minor": 0
      },
      "text/plain": [
       "Map(center=[0, 0], controls=(WidgetControl(options=['position', 'transparent_bg'], widget=SearchDataGUI(childr…"
      ]
     },
     "execution_count": 25,
     "metadata": {},
     "output_type": "execute_result"
    }
   ],
   "source": [
    "# Visualise layers\n",
    "m = geemap.Map()\n",
    "m.zoom_to_gdf(country_gdf)\n",
    "\n",
    "m.add_layer(country_ee, name= 'Zambia')\n",
    "\n",
    "m.add_ee_layer(pH_dataset, vis_params= ph_vis_params, name= \"pH\")\n",
    "m.add_colorbar(ph_vis_params, orientation='vertical',  \n",
    "               label= \"pH\", layer_name= f\"pH\")\n",
    "\n",
    "m.add_ee_layer(ranked_suitable_ph, vis_params= ranked_ph_vis_params, name= f\"{crop} pH Suitability\")\n",
    "# m.add_colorbar(ranked_ph_vis_params, orientation='vertical',  \n",
    "            #    label= \"pH Suitability\", layer_name= f\"{crop} pH Suitability\")\n",
    "m"
   ]
  }
 ],
 "metadata": {
  "kernelspec": {
   "display_name": "geoProg",
   "language": "python",
   "name": "python3"
  },
  "language_info": {
   "codemirror_mode": {
    "name": "ipython",
    "version": 3
   },
   "file_extension": ".py",
   "mimetype": "text/x-python",
   "name": "python",
   "nbconvert_exporter": "python",
   "pygments_lexer": "ipython3",
   "version": "3.11.11"
  }
 },
 "nbformat": 4,
 "nbformat_minor": 5
}
