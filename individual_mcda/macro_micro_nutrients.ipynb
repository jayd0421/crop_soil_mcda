{
 "cells": [
  {
   "cell_type": "markdown",
   "id": "a15d9a8f",
   "metadata": {},
   "source": [
    "**Soil MCDA** for Phosphorus, Nitrogen, Potassium, Calcium, Magnesium, Sulphur and Zinc"
   ]
  },
  {
   "cell_type": "code",
   "execution_count": null,
   "id": "50f1f9b7",
   "metadata": {},
   "outputs": [
    {
     "data": {
      "text/html": [
       "\n",
       "            <style>\n",
       "                .geemap-dark {\n",
       "                    --jp-widgets-color: white;\n",
       "                    --jp-widgets-label-color: white;\n",
       "                    --jp-ui-font-color1: white;\n",
       "                    --jp-layout-color2: #454545;\n",
       "                    background-color: #383838;\n",
       "                }\n",
       "\n",
       "                .geemap-dark .jupyter-button {\n",
       "                    --jp-layout-color3: #383838;\n",
       "                }\n",
       "\n",
       "                .geemap-colab {\n",
       "                    background-color: var(--colab-primary-surface-color, white);\n",
       "                }\n",
       "\n",
       "                .geemap-colab .jupyter-button {\n",
       "                    --jp-layout-color3: var(--colab-primary-surface-color, white);\n",
       "                }\n",
       "            </style>\n",
       "            "
      ],
      "text/plain": [
       "<IPython.core.display.HTML object>"
      ]
     },
     "metadata": {},
     "output_type": "display_data"
    }
   ],
   "source": [
    "# Import modules\n",
    "import ee\n",
    "import geemap\n",
    "import geopandas as gpd"
   ]
  },
  {
   "cell_type": "code",
   "execution_count": 11,
   "id": "42d95ae3",
   "metadata": {},
   "outputs": [
    {
     "data": {
      "text/html": [
       "\n",
       "            <style>\n",
       "                .geemap-dark {\n",
       "                    --jp-widgets-color: white;\n",
       "                    --jp-widgets-label-color: white;\n",
       "                    --jp-ui-font-color1: white;\n",
       "                    --jp-layout-color2: #454545;\n",
       "                    background-color: #383838;\n",
       "                }\n",
       "\n",
       "                .geemap-dark .jupyter-button {\n",
       "                    --jp-layout-color3: #383838;\n",
       "                }\n",
       "\n",
       "                .geemap-colab {\n",
       "                    background-color: var(--colab-primary-surface-color, white);\n",
       "                }\n",
       "\n",
       "                .geemap-colab .jupyter-button {\n",
       "                    --jp-layout-color3: var(--colab-primary-surface-color, white);\n",
       "                }\n",
       "            </style>\n",
       "            "
      ],
      "text/plain": [
       "<IPython.core.display.HTML object>"
      ]
     },
     "metadata": {},
     "output_type": "display_data"
    }
   ],
   "source": [
    "# Initialize Earth Engine\n",
    "try:\n",
    "    ee.Initialize()\n",
    "except ee.EEException:\n",
    "    ee.Authenticate()"
   ]
  },
  {
   "cell_type": "code",
   "execution_count": null,
   "id": "cd48420a",
   "metadata": {},
   "outputs": [
    {
     "data": {
      "text/html": [
       "\n",
       "            <style>\n",
       "                .geemap-dark {\n",
       "                    --jp-widgets-color: white;\n",
       "                    --jp-widgets-label-color: white;\n",
       "                    --jp-ui-font-color1: white;\n",
       "                    --jp-layout-color2: #454545;\n",
       "                    background-color: #383838;\n",
       "                }\n",
       "\n",
       "                .geemap-dark .jupyter-button {\n",
       "                    --jp-layout-color3: #383838;\n",
       "                }\n",
       "\n",
       "                .geemap-colab {\n",
       "                    background-color: var(--colab-primary-surface-color, white);\n",
       "                }\n",
       "\n",
       "                .geemap-colab .jupyter-button {\n",
       "                    --jp-layout-color3: var(--colab-primary-surface-color, white);\n",
       "                }\n",
       "            </style>\n",
       "            "
      ],
      "text/plain": [
       "<IPython.core.display.HTML object>"
      ]
     },
     "metadata": {},
     "output_type": "display_data"
    }
   ],
   "source": [
    "# def get_vis_params(image, aoi):\n",
    "#     # reduceRegion to get the minimum nutrient_extractable in the AOI\n",
    "#     min_nutrient_extractable = image.reduceRegion(\n",
    "#         reducer=ee.Reducer.min(),\n",
    "#         geometry=aoi,\n",
    "#         scale=3000,\n",
    "#         maxPixels=9e8\n",
    "#     )\n",
    "\n",
    "#     # reduceRegion to get the maximum nutrient_extractable in the AOI\n",
    "#     max_nutrient_extractable = image.reduceRegion(\n",
    "#     reducer=ee.Reducer.max(),\n",
    "#     geometry=aoi,\n",
    "#     scale=3000,\n",
    "#     maxPixels=9e8\n",
    "#     )\n",
    "\n",
    "#     # Get the result and print the minimum value\n",
    "#     try:\n",
    "#         nutrient_extractable_min_max = [min_nutrient_extractable.getInfo()['mean_0_20'], \n",
    "#                             max_nutrient_extractable.getInfo()['mean_0_20']]\n",
    "#         vis_params = {'palette': ['darkred', 'red', \n",
    "#                           'white', 'lightblue', 'blue', 'darkblue'],\n",
    "#                'min': nutrient_extractable_min_max[0], 'max': nutrient_extractable_min_max[1]}\n",
    "        \n",
    "#     except KeyError:\n",
    "#         nutrient_extractable_min_max = [min_nutrient_extractable.getInfo()['constant'], \n",
    "#                             max_nutrient_extractable.getInfo()['constant']]\n",
    "#         vis_params = {'palette': ['darkred', 'yellow', 'green', 'darkgreen'],\n",
    "#                 'min': nutrient_extractable_min_max[0], 'max': nutrient_extractable_min_max[1]}\n",
    "    \n",
    "#     return vis_params"
   ]
  },
  {
   "cell_type": "code",
   "execution_count": 13,
   "id": "0405768d",
   "metadata": {},
   "outputs": [
    {
     "data": {
      "text/html": [
       "\n",
       "            <style>\n",
       "                .geemap-dark {\n",
       "                    --jp-widgets-color: white;\n",
       "                    --jp-widgets-label-color: white;\n",
       "                    --jp-ui-font-color1: white;\n",
       "                    --jp-layout-color2: #454545;\n",
       "                    background-color: #383838;\n",
       "                }\n",
       "\n",
       "                .geemap-dark .jupyter-button {\n",
       "                    --jp-layout-color3: #383838;\n",
       "                }\n",
       "\n",
       "                .geemap-colab {\n",
       "                    background-color: var(--colab-primary-surface-color, white);\n",
       "                }\n",
       "\n",
       "                .geemap-colab .jupyter-button {\n",
       "                    --jp-layout-color3: var(--colab-primary-surface-color, white);\n",
       "                }\n",
       "            </style>\n",
       "            "
      ],
      "text/plain": [
       "<IPython.core.display.HTML object>"
      ]
     },
     "metadata": {},
     "output_type": "display_data"
    }
   ],
   "source": [
    "def selected_nutrient_suitability_range(nutrient):\n",
    "    nutrient = nutrient.lower()\n",
    "    \n",
    "    #All units are in ppm\n",
    "    nutrient_ranges = {\n",
    "        'phosphorus': {\n",
    "                'Soybean':    [(15, None, 3), (10, 15, 2), (5, 10, 1)],\n",
    "                'Groundnut':  [(15, None, 3), (10, 15, 2), (5, 10, 1)],\n",
    "                'Sugarbean':  [(15, None, 3), (10, 15, 2), (5, 10, 1)],\n",
    "                'Navybean':   [(15, None, 3), (10, 15, 2), (5, 10, 1)],\n",
    "                'Maize':      [(15, None, 3), (10, 15, 2), (5, 10, 1)],\n",
    "                'Cowpea':     [(15, None, 3), (10, 15, 2), (5, 10, 1)],\n",
    "                'Sunflower':  [(15, None, 3), (10, 15, 2), (5, 10, 1)],\n",
    "            },\n",
    "        'nitrogen': {\n",
    "                'Soybean':    [(150, None, 3), (100, 150, 2), (50, 100, 1)],\n",
    "                'Groundnut':  [(150, None, 3), (100, 150, 2), (50, 100, 1)],\n",
    "                'Sugarbean':  [(150, None, 3), (100, 150, 2), (50, 100, 1)],\n",
    "                'Navybean':   [(150, None, 3), (100, 150, 2), (50, 100, 1)],\n",
    "                'Maize':      [(150, None, 3), (100, 150, 2), (50, 100, 1)],\n",
    "                'Cowpea':     [(150, None, 3), (100, 150, 2), (50, 100, 1)],\n",
    "                'Sunflower':  [(150, None, 3), (100, 150, 2), (50, 100, 1)],\n",
    "            },\n",
    "        'potassium': {\n",
    "                'Soybean':    [(1170, None, 3), (780, 1170, 2), (390, 780, 1)],\n",
    "                'Groundnut':  [(1170, None, 3), (780, 1170, 2), (390, 780, 1)],\n",
    "                'Sugarbean':  [(1170, None, 3), (780, 1170, 2), (390, 780, 1)],\n",
    "                'Navybean':   [(1170, None, 3), (780, 1170, 2), (390, 780, 1)],\n",
    "                'Maize':      [(1170, None, 3), (780, 1170, 2), (390, 780, 1)],\n",
    "                'Cowpea':     [(1170, None, 3), (780, 1170, 2), (390, 780, 1)],\n",
    "                'Sunflower':  [(1170, None, 3), (780, 1170, 2), (390, 780, 1)],\n",
    "            },\n",
    "        'calcium': {\n",
    "                'Soybean':    [(600, None, 3), (400, 600, 2), (200, 400, 1)],\n",
    "                'Groundnut':  [(600, None, 3), (400, 600, 2), (200, 400, 1)],\n",
    "                'Sugarbean':  [(600, None, 3), (400, 600, 2), (200, 400, 1)],\n",
    "                'Navybean':   [(600, None, 3), (400, 600, 2), (200, 400, 1)],\n",
    "                'Maize':      [(600, None, 3), (400, 600, 2), (200, 400, 1)],\n",
    "                'Cowpea':     [(600, None, 3), (400, 600, 2), (200, 400, 1)],\n",
    "                'Sunflower':  [(600, None, 3), (400, 600, 2), (200, 400, 1)],\n",
    "            },\n",
    "        'magnesium': {\n",
    "                'Soybean':    [(600, None, 3), (360, 600, 2), (120, 360, 1)],\n",
    "                'Groundnut':  [(600, None, 3), (360, 600, 2), (120, 360, 1)],\n",
    "                'Sugarbean':  [(600, None, 3), (360, 600, 2), (120, 360, 1)],\n",
    "                'Navybean':   [(600, None, 3), (360, 600, 2), (120, 360, 1)],\n",
    "                'Maize':      [(600, None, 3), (360, 600, 2), (120, 360, 1)],\n",
    "                'Cowpea':     [(600, None, 3), (360, 600, 2), (120, 360, 1)],\n",
    "                'Sunflower':  [(600, None, 3), (360, 600, 2), (120, 360, 1)],\n",
    "            },\n",
    "        'sulphur': {\n",
    "                'Soybean':    [(10, None, 3), (6, 10, 2), (3, 6, 1)],\n",
    "                'Groundnut':  [(10, None, 3), (6, 10, 2), (3, 6, 1)],\n",
    "                'Sugarbean':  [(10, None, 3), (6, 10, 2), (3, 6, 1)],\n",
    "                'Navybean':   [(10, None, 3), (6, 10, 2), (3, 6, 1)],\n",
    "                'Maize':      [(10, None, 3), (6, 10, 2), (3, 6, 1)],\n",
    "                'Cowpea':     [(10, None, 3), (6, 10, 2), (3, 6, 1)],\n",
    "                'Sunflower':  [(10, None, 3), (6, 10, 2), (3, 6, 1)],\n",
    "            },\n",
    "        'zinc': {\n",
    "                'Soybean':    [(0.5, None, 3), (0.3, 0.5, 2), (0.1, 0.3, 1)],\n",
    "                'Groundnut':  [(0.5, None, 3), (0.3, 0.5, 2), (0.1, 0.3, 1)],\n",
    "                'Sugarbean':  [(0.5, None, 3), (0.3, 0.5, 2), (0.1, 0.3, 1)],\n",
    "                'Navybean':   [(0.5, None, 3), (0.3, 0.5, 2), (0.1, 0.3, 1)],\n",
    "                'Maize':      [(0.5, None, 3), (0.3, 0.5, 2), (0.1, 0.3, 1)],\n",
    "                'Cowpea':     [(0.5, None, 3), (0.3, 0.5, 2), (0.1, 0.3, 1)],\n",
    "                'Sunflower':  [(0.5, None, 3), (0.3, 0.5, 2), (0.1, 0.3, 1)],\n",
    "            },\n",
    "\n",
    "    }\n",
    "\n",
    "    selected_nutrient_range = nutrient_ranges[nutrient]\n",
    "\n",
    "    return selected_nutrient_range"
   ]
  },
  {
   "cell_type": "code",
   "execution_count": null,
   "id": "56dc2a0a",
   "metadata": {},
   "outputs": [
    {
     "data": {
      "text/html": [
       "\n",
       "            <style>\n",
       "                .geemap-dark {\n",
       "                    --jp-widgets-color: white;\n",
       "                    --jp-widgets-label-color: white;\n",
       "                    --jp-ui-font-color1: white;\n",
       "                    --jp-layout-color2: #454545;\n",
       "                    background-color: #383838;\n",
       "                }\n",
       "\n",
       "                .geemap-dark .jupyter-button {\n",
       "                    --jp-layout-color3: #383838;\n",
       "                }\n",
       "\n",
       "                .geemap-colab {\n",
       "                    background-color: var(--colab-primary-surface-color, white);\n",
       "                }\n",
       "\n",
       "                .geemap-colab .jupyter-button {\n",
       "                    --jp-layout-color3: var(--colab-primary-surface-color, white);\n",
       "                }\n",
       "            </style>\n",
       "            "
      ],
      "text/plain": [
       "<IPython.core.display.HTML object>"
      ]
     },
     "metadata": {},
     "output_type": "display_data"
    }
   ],
   "source": [
    "def get_nutrient_image(nutrient, aoi_ee):\n",
    "    # Import nutrient_extractable dataset from GEE\n",
    "    raw_phosphorus_extractable_dataset = ee.Image(\"ISDASOIL/Africa/v1/phosphorus_extractable\") \\\n",
    "                .select('mean_0_20').clip(aoi_ee)\n",
    "    raw_nitrogen_total_dataset = ee.Image(\"ISDASOIL/Africa/v1/nitrogen_total\") \\\n",
    "                .select('mean_0_20').clip(aoi_ee)\n",
    "    raw_potassium_extractable_dataset = ee.Image(\"ISDASOIL/Africa/v1/potassium_extractable\") \\\n",
    "                .select('mean_0_20').clip(aoi_ee)\n",
    "    raw_calcium_extractable_dataset = ee.Image(\"ISDASOIL/Africa/v1/calcium_extractable\") \\\n",
    "                .select('mean_0_20').clip(aoi_ee)\n",
    "    raw_magnesium_extractable_dataset = ee.Image(\"ISDASOIL/Africa/v1/magnesium_extractable\") \\\n",
    "                .select('mean_0_20').clip(aoi_ee)\n",
    "    raw_sulphur_extractable_dataset = ee.Image(\"ISDASOIL/Africa/v1/sulphur_extractable\") \\\n",
    "                .select('mean_0_20').clip(aoi_ee)\n",
    "    raw_zinc_extractable_dataset = ee.Image(\"ISDASOIL/Africa/v1/zinc_extractable\") \\\n",
    "                .select('mean_0_20').clip(aoi_ee)\n",
    "    \n",
    "    nutrient = nutrient.lower()\n",
    "    \n",
    "    selected_nutrient = {\n",
    "        'phosphorus': raw_phosphorus_extractable_dataset,\n",
    "        'nitrogen': raw_nitrogen_total_dataset, \n",
    "        'potassium': raw_potassium_extractable_dataset, \n",
    "        'calcium': raw_calcium_extractable_dataset,\n",
    "        'magnesium': raw_magnesium_extractable_dataset,\n",
    "        'sulphur': raw_sulphur_extractable_dataset,\n",
    "        'zinc': raw_zinc_extractable_dataset\n",
    "    }\n",
    "\n",
    "    nutrient_extractable_dataset = selected_nutrient[nutrient].divide(10).exp().subtract(1)\n",
    "\n",
    "    return nutrient_extractable_dataset\n"
   ]
  },
  {
   "cell_type": "code",
   "execution_count": 15,
   "id": "bb6929b1",
   "metadata": {},
   "outputs": [
    {
     "data": {
      "text/html": [
       "\n",
       "            <style>\n",
       "                .geemap-dark {\n",
       "                    --jp-widgets-color: white;\n",
       "                    --jp-widgets-label-color: white;\n",
       "                    --jp-ui-font-color1: white;\n",
       "                    --jp-layout-color2: #454545;\n",
       "                    background-color: #383838;\n",
       "                }\n",
       "\n",
       "                .geemap-dark .jupyter-button {\n",
       "                    --jp-layout-color3: #383838;\n",
       "                }\n",
       "\n",
       "                .geemap-colab {\n",
       "                    background-color: var(--colab-primary-surface-color, white);\n",
       "                }\n",
       "\n",
       "                .geemap-colab .jupyter-button {\n",
       "                    --jp-layout-color3: var(--colab-primary-surface-color, white);\n",
       "                }\n",
       "            </style>\n",
       "            "
      ],
      "text/plain": [
       "<IPython.core.display.HTML object>"
      ]
     },
     "metadata": {},
     "output_type": "display_data"
    }
   ],
   "source": [
    "# Get ranked nutrient_extractable suitability\n",
    "def get_nutrient_suitability_image(crop, nutrient, aoi_ee):\n",
    "    nutrient_image = get_nutrient_image(nutrient, aoi_ee)\n",
    "    suitability_ranges = selected_nutrient_suitability_range(nutrient)\n",
    "\n",
    "    # Standardize crop name input\n",
    "    crop = crop.strip().replace(\" \", \"\").title()\n",
    "    ranges = suitability_ranges[crop]\n",
    "\n",
    "    # Default suitability of 0 (no suitability)\n",
    "    suitability_image = ee.Image(0).clip(aoi_ee)\n",
    "\n",
    "    # Apply suitability levels\n",
    "    for (min_val, max_val, score) in ranges:\n",
    "        if max_val is None:\n",
    "            mask = nutrient_image.gte(min_val)\n",
    "        else:\n",
    "            mask = nutrient_image.gte(min_val).And(nutrient_image.lt(max_val)) \n",
    "\n",
    "        suitability_image = suitability_image.where(mask, score)\n",
    "\n",
    "    return suitability_image"
   ]
  },
  {
   "cell_type": "code",
   "execution_count": null,
   "id": "c5af1f24",
   "metadata": {},
   "outputs": [
    {
     "data": {
      "text/html": [
       "\n",
       "            <style>\n",
       "                .geemap-dark {\n",
       "                    --jp-widgets-color: white;\n",
       "                    --jp-widgets-label-color: white;\n",
       "                    --jp-ui-font-color1: white;\n",
       "                    --jp-layout-color2: #454545;\n",
       "                    background-color: #383838;\n",
       "                }\n",
       "\n",
       "                .geemap-dark .jupyter-button {\n",
       "                    --jp-layout-color3: #383838;\n",
       "                }\n",
       "\n",
       "                .geemap-colab {\n",
       "                    background-color: var(--colab-primary-surface-color, white);\n",
       "                }\n",
       "\n",
       "                .geemap-colab .jupyter-button {\n",
       "                    --jp-layout-color3: var(--colab-primary-surface-color, white);\n",
       "                }\n",
       "            </style>\n",
       "            "
      ],
      "text/plain": [
       "<IPython.core.display.HTML object>"
      ]
     },
     "metadata": {},
     "output_type": "display_data"
    }
   ],
   "source": [
    "# # Open source table as a ee\n",
    "# # country_gpkg = r\"data\\zambia_boundary.gpkg\"\n",
    "# country_gpkg = r\"C:\\Users\\jedid\\Documents\\Code\\github\\crop_soil_mcda\\data\\zambia_boundary.gpkg\"\n",
    "# country_gdf = gpd.read_file(country_gpkg)\n",
    "# country_ee = geemap.gdf_to_ee(country_gdf)\n",
    "\n",
    "# # Preview the data\n",
    "# # country_gdf.head()"
   ]
  },
  {
   "cell_type": "code",
   "execution_count": null,
   "id": "ca79466b",
   "metadata": {},
   "outputs": [
    {
     "data": {
      "text/html": [
       "\n",
       "            <style>\n",
       "                .geemap-dark {\n",
       "                    --jp-widgets-color: white;\n",
       "                    --jp-widgets-label-color: white;\n",
       "                    --jp-ui-font-color1: white;\n",
       "                    --jp-layout-color2: #454545;\n",
       "                    background-color: #383838;\n",
       "                }\n",
       "\n",
       "                .geemap-dark .jupyter-button {\n",
       "                    --jp-layout-color3: #383838;\n",
       "                }\n",
       "\n",
       "                .geemap-colab {\n",
       "                    background-color: var(--colab-primary-surface-color, white);\n",
       "                }\n",
       "\n",
       "                .geemap-colab .jupyter-button {\n",
       "                    --jp-layout-color3: var(--colab-primary-surface-color, white);\n",
       "                }\n",
       "            </style>\n",
       "            "
      ],
      "text/plain": [
       "<IPython.core.display.HTML object>"
      ]
     },
     "metadata": {},
     "output_type": "display_data"
    }
   ],
   "source": [
    "# nutrient = 'magnesium'\n",
    "# crop = 'Soybean'\n",
    "\n",
    "# soil_nutrient_image = get_nutrient_image(nutrient, country_ee)\n",
    "# soil_nutrient_suitability_image = get_nutrient_suitability_image(crop, nutrient, country_ee)"
   ]
  },
  {
   "cell_type": "code",
   "execution_count": null,
   "id": "088911da",
   "metadata": {},
   "outputs": [
    {
     "data": {
      "text/html": [
       "\n",
       "            <style>\n",
       "                .geemap-dark {\n",
       "                    --jp-widgets-color: white;\n",
       "                    --jp-widgets-label-color: white;\n",
       "                    --jp-ui-font-color1: white;\n",
       "                    --jp-layout-color2: #454545;\n",
       "                    background-color: #383838;\n",
       "                }\n",
       "\n",
       "                .geemap-dark .jupyter-button {\n",
       "                    --jp-layout-color3: #383838;\n",
       "                }\n",
       "\n",
       "                .geemap-colab {\n",
       "                    background-color: var(--colab-primary-surface-color, white);\n",
       "                }\n",
       "\n",
       "                .geemap-colab .jupyter-button {\n",
       "                    --jp-layout-color3: var(--colab-primary-surface-color, white);\n",
       "                }\n",
       "            </style>\n",
       "            "
      ],
      "text/plain": [
       "<IPython.core.display.HTML object>"
      ]
     },
     "metadata": {},
     "output_type": "display_data"
    }
   ],
   "source": [
    "# # phosphorus_extractable visualisastion parameters\n",
    "# soil_nutrient_vis_params = get_vis_params(soil_nutrient_image, country_ee)\n",
    "# soil_nutrient_suitability_vis_params = get_vis_params(soil_nutrient_suitability_image, country_ee)"
   ]
  },
  {
   "cell_type": "code",
   "execution_count": null,
   "id": "67dd51b8",
   "metadata": {},
   "outputs": [
    {
     "data": {
      "text/html": [
       "\n",
       "            <style>\n",
       "                .geemap-dark {\n",
       "                    --jp-widgets-color: white;\n",
       "                    --jp-widgets-label-color: white;\n",
       "                    --jp-ui-font-color1: white;\n",
       "                    --jp-layout-color2: #454545;\n",
       "                    background-color: #383838;\n",
       "                }\n",
       "\n",
       "                .geemap-dark .jupyter-button {\n",
       "                    --jp-layout-color3: #383838;\n",
       "                }\n",
       "\n",
       "                .geemap-colab {\n",
       "                    background-color: var(--colab-primary-surface-color, white);\n",
       "                }\n",
       "\n",
       "                .geemap-colab .jupyter-button {\n",
       "                    --jp-layout-color3: var(--colab-primary-surface-color, white);\n",
       "                }\n",
       "            </style>\n",
       "            "
      ],
      "text/plain": [
       "<IPython.core.display.HTML object>"
      ]
     },
     "metadata": {},
     "output_type": "display_data"
    },
    {
     "data": {
      "application/vnd.jupyter.widget-view+json": {
       "model_id": "f5744e56775f4c3b82b17fccea74f0cc",
       "version_major": 2,
       "version_minor": 0
      },
      "text/plain": [
       "Map(center=[0, 0], controls=(WidgetControl(options=['position', 'transparent_bg'], widget=SearchDataGUI(childr…"
      ]
     },
     "execution_count": 19,
     "metadata": {},
     "output_type": "execute_result"
    }
   ],
   "source": [
    "# # Visualise layers\n",
    "# m = geemap.Map()\n",
    "# m.zoom_to_gdf(country_gdf)\n",
    "\n",
    "# m.add_layer(country_ee, name= 'Zambia')\n",
    "\n",
    "# m.add_ee_layer(soil_nutrient_image, vis_params= soil_nutrient_vis_params, name= f\"{nutrient}_extractable\")\n",
    "# m.add_colorbar(soil_nutrient_vis_params, orientation='vertical',  \n",
    "#                label= \"phosphorus_extractable\", layer_name= f\"phosphorus_extractable\")\n",
    "\n",
    "# m.add_ee_layer(soil_nutrient_suitability_image, vis_params= soil_nutrient_suitability_vis_params, name= f\"{crop} Suitability ({nutrient})\")\n",
    "# # m.add_colorbar(ranked_phosphorus_extractable_vis_params, orientation='vertical',  \n",
    "#             #    label= \"phosphorus_extractable Suitability\", layer_name= f\"{crop} phosphorus_extractable Suitability\")\n",
    "# m"
   ]
  }
 ],
 "metadata": {
  "kernelspec": {
   "display_name": "geoProg",
   "language": "python",
   "name": "python3"
  },
  "language_info": {
   "codemirror_mode": {
    "name": "ipython",
    "version": 3
   },
   "file_extension": ".py",
   "mimetype": "text/x-python",
   "name": "python",
   "nbconvert_exporter": "python",
   "pygments_lexer": "ipython3",
   "version": "3.11.11"
  }
 },
 "nbformat": 4,
 "nbformat_minor": 5
}
