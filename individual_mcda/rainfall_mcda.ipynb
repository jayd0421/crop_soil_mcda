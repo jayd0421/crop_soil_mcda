{
 "cells": [
  {
   "cell_type": "code",
   "execution_count": 64,
   "id": "50f1f9b7",
   "metadata": {},
   "outputs": [
    {
     "data": {
      "text/html": [
       "\n",
       "            <style>\n",
       "                .geemap-dark {\n",
       "                    --jp-widgets-color: white;\n",
       "                    --jp-widgets-label-color: white;\n",
       "                    --jp-ui-font-color1: white;\n",
       "                    --jp-layout-color2: #454545;\n",
       "                    background-color: #383838;\n",
       "                }\n",
       "\n",
       "                .geemap-dark .jupyter-button {\n",
       "                    --jp-layout-color3: #383838;\n",
       "                }\n",
       "\n",
       "                .geemap-colab {\n",
       "                    background-color: var(--colab-primary-surface-color, white);\n",
       "                }\n",
       "\n",
       "                .geemap-colab .jupyter-button {\n",
       "                    --jp-layout-color3: var(--colab-primary-surface-color, white);\n",
       "                }\n",
       "            </style>\n",
       "            "
      ],
      "text/plain": [
       "<IPython.core.display.HTML object>"
      ]
     },
     "metadata": {},
     "output_type": "display_data"
    }
   ],
   "source": [
    "import ee\n",
    "import geemap\n",
    "import geopandas as gpd\n",
    "import numpy as np"
   ]
  },
  {
   "cell_type": "code",
   "execution_count": 2,
   "id": "42d95ae3",
   "metadata": {},
   "outputs": [
    {
     "data": {
      "text/html": [
       "\n",
       "            <style>\n",
       "                .geemap-dark {\n",
       "                    --jp-widgets-color: white;\n",
       "                    --jp-widgets-label-color: white;\n",
       "                    --jp-ui-font-color1: white;\n",
       "                    --jp-layout-color2: #454545;\n",
       "                    background-color: #383838;\n",
       "                }\n",
       "\n",
       "                .geemap-dark .jupyter-button {\n",
       "                    --jp-layout-color3: #383838;\n",
       "                }\n",
       "\n",
       "                .geemap-colab {\n",
       "                    background-color: var(--colab-primary-surface-color, white);\n",
       "                }\n",
       "\n",
       "                .geemap-colab .jupyter-button {\n",
       "                    --jp-layout-color3: var(--colab-primary-surface-color, white);\n",
       "                }\n",
       "            </style>\n",
       "            "
      ],
      "text/plain": [
       "<IPython.core.display.HTML object>"
      ]
     },
     "metadata": {},
     "output_type": "display_data"
    }
   ],
   "source": [
    "# ee.Authenticate()\n",
    "ee.Initialize()"
   ]
  },
  {
   "cell_type": "code",
   "execution_count": 6,
   "id": "c5af1f24",
   "metadata": {},
   "outputs": [
    {
     "data": {
      "text/html": [
       "\n",
       "            <style>\n",
       "                .geemap-dark {\n",
       "                    --jp-widgets-color: white;\n",
       "                    --jp-widgets-label-color: white;\n",
       "                    --jp-ui-font-color1: white;\n",
       "                    --jp-layout-color2: #454545;\n",
       "                    background-color: #383838;\n",
       "                }\n",
       "\n",
       "                .geemap-dark .jupyter-button {\n",
       "                    --jp-layout-color3: #383838;\n",
       "                }\n",
       "\n",
       "                .geemap-colab {\n",
       "                    background-color: var(--colab-primary-surface-color, white);\n",
       "                }\n",
       "\n",
       "                .geemap-colab .jupyter-button {\n",
       "                    --jp-layout-color3: var(--colab-primary-surface-color, white);\n",
       "                }\n",
       "            </style>\n",
       "            "
      ],
      "text/plain": [
       "<IPython.core.display.HTML object>"
      ]
     },
     "metadata": {},
     "output_type": "display_data"
    },
    {
     "data": {
      "text/html": [
       "<div>\n",
       "<style scoped>\n",
       "    .dataframe tbody tr th:only-of-type {\n",
       "        vertical-align: middle;\n",
       "    }\n",
       "\n",
       "    .dataframe tbody tr th {\n",
       "        vertical-align: top;\n",
       "    }\n",
       "\n",
       "    .dataframe thead th {\n",
       "        text-align: right;\n",
       "    }\n",
       "</style>\n",
       "<table border=\"1\" class=\"dataframe\">\n",
       "  <thead>\n",
       "    <tr style=\"text-align: right;\">\n",
       "      <th></th>\n",
       "      <th>province</th>\n",
       "      <th>district</th>\n",
       "      <th>block</th>\n",
       "      <th>camp</th>\n",
       "      <th>area_sqkm</th>\n",
       "      <th>area_ha</th>\n",
       "      <th>other_ fea</th>\n",
       "      <th>region</th>\n",
       "      <th>rainfall</th>\n",
       "      <th>growth_per</th>\n",
       "      <th>x</th>\n",
       "      <th>y</th>\n",
       "      <th>geometry</th>\n",
       "    </tr>\n",
       "  </thead>\n",
       "  <tbody>\n",
       "    <tr>\n",
       "      <th>0</th>\n",
       "      <td>Copperbelt</td>\n",
       "      <td>Mufulira</td>\n",
       "      <td>Murundu</td>\n",
       "      <td>Mokambo</td>\n",
       "      <td>59.0</td>\n",
       "      <td>5870.0</td>\n",
       "      <td>None</td>\n",
       "      <td>III</td>\n",
       "      <td>Above 1000mm</td>\n",
       "      <td>120-150 days</td>\n",
       "      <td>28.328695</td>\n",
       "      <td>-12.455062</td>\n",
       "      <td>POINT (28.32869 -12.45506)</td>\n",
       "    </tr>\n",
       "    <tr>\n",
       "      <th>1</th>\n",
       "      <td>Copperbelt</td>\n",
       "      <td>Kalulushi</td>\n",
       "      <td>Chati</td>\n",
       "      <td>Chati Central</td>\n",
       "      <td>209.0</td>\n",
       "      <td>20862.0</td>\n",
       "      <td>None</td>\n",
       "      <td>III</td>\n",
       "      <td>Above 1000mm</td>\n",
       "      <td>120-150 days</td>\n",
       "      <td>27.802077</td>\n",
       "      <td>-12.774708</td>\n",
       "      <td>POINT (27.80208 -12.77471)</td>\n",
       "    </tr>\n",
       "    <tr>\n",
       "      <th>2</th>\n",
       "      <td>Copperbelt</td>\n",
       "      <td>Kalulushi</td>\n",
       "      <td>Chati</td>\n",
       "      <td>Kafubu Depot</td>\n",
       "      <td>244.0</td>\n",
       "      <td>24414.0</td>\n",
       "      <td>None</td>\n",
       "      <td>III</td>\n",
       "      <td>Above 1000mm</td>\n",
       "      <td>120-150 days</td>\n",
       "      <td>27.879169</td>\n",
       "      <td>-12.832888</td>\n",
       "      <td>POINT (27.87917 -12.83289)</td>\n",
       "    </tr>\n",
       "    <tr>\n",
       "      <th>3</th>\n",
       "      <td>Copperbelt</td>\n",
       "      <td>Lufwanyama</td>\n",
       "      <td>Kafubu</td>\n",
       "      <td>Lumanto</td>\n",
       "      <td>98.0</td>\n",
       "      <td>9795.0</td>\n",
       "      <td>None</td>\n",
       "      <td>III</td>\n",
       "      <td>Above 1000mm</td>\n",
       "      <td>120-150 days</td>\n",
       "      <td>27.748971</td>\n",
       "      <td>-12.956329</td>\n",
       "      <td>POINT (27.74897 -12.95633)</td>\n",
       "    </tr>\n",
       "    <tr>\n",
       "      <th>4</th>\n",
       "      <td>Copperbelt</td>\n",
       "      <td>Lufwanyama</td>\n",
       "      <td>Kafubu</td>\n",
       "      <td>Chikabuke</td>\n",
       "      <td>84.0</td>\n",
       "      <td>8350.0</td>\n",
       "      <td>None</td>\n",
       "      <td>III</td>\n",
       "      <td>Above 1000mm</td>\n",
       "      <td>120-150 days</td>\n",
       "      <td>27.740611</td>\n",
       "      <td>-13.041749</td>\n",
       "      <td>POINT (27.74061 -13.04175)</td>\n",
       "    </tr>\n",
       "  </tbody>\n",
       "</table>\n",
       "</div>"
      ],
      "text/plain": [
       "     province    district    block           camp  area_sqkm  area_ha  \\\n",
       "0  Copperbelt    Mufulira  Murundu        Mokambo       59.0   5870.0   \n",
       "1  Copperbelt   Kalulushi    Chati  Chati Central      209.0  20862.0   \n",
       "2  Copperbelt   Kalulushi    Chati   Kafubu Depot      244.0  24414.0   \n",
       "3  Copperbelt  Lufwanyama   Kafubu        Lumanto       98.0   9795.0   \n",
       "4  Copperbelt  Lufwanyama   Kafubu      Chikabuke       84.0   8350.0   \n",
       "\n",
       "  other_ fea region      rainfall    growth_per          x          y  \\\n",
       "0       None    III  Above 1000mm  120-150 days  28.328695 -12.455062   \n",
       "1       None    III  Above 1000mm  120-150 days  27.802077 -12.774708   \n",
       "2       None    III  Above 1000mm  120-150 days  27.879169 -12.832888   \n",
       "3       None    III  Above 1000mm  120-150 days  27.748971 -12.956329   \n",
       "4       None    III  Above 1000mm  120-150 days  27.740611 -13.041749   \n",
       "\n",
       "                     geometry  \n",
       "0  POINT (28.32869 -12.45506)  \n",
       "1  POINT (27.80208 -12.77471)  \n",
       "2  POINT (27.87917 -12.83289)  \n",
       "3  POINT (27.74897 -12.95633)  \n",
       "4  POINT (27.74061 -13.04175)  "
      ]
     },
     "execution_count": 6,
     "metadata": {},
     "output_type": "execute_result"
    }
   ],
   "source": [
    "# Open source table as a dataframe\n",
    "camps_gdf = gpd.read_file(r\"C:/Users/jedid/Documents/GIS/agricultural_camps_centroids.gpkg\", layer=\"agricultural_camps_centroids\")\n",
    "\n",
    "# Preview the data\n",
    "camps_gdf.head()"
   ]
  },
  {
   "cell_type": "code",
   "execution_count": 42,
   "id": "850ee5b9",
   "metadata": {},
   "outputs": [
    {
     "data": {
      "text/html": [
       "\n",
       "            <style>\n",
       "                .geemap-dark {\n",
       "                    --jp-widgets-color: white;\n",
       "                    --jp-widgets-label-color: white;\n",
       "                    --jp-ui-font-color1: white;\n",
       "                    --jp-layout-color2: #454545;\n",
       "                    background-color: #383838;\n",
       "                }\n",
       "\n",
       "                .geemap-dark .jupyter-button {\n",
       "                    --jp-layout-color3: #383838;\n",
       "                }\n",
       "\n",
       "                .geemap-colab {\n",
       "                    background-color: var(--colab-primary-surface-color, white);\n",
       "                }\n",
       "\n",
       "                .geemap-colab .jupyter-button {\n",
       "                    --jp-layout-color3: var(--colab-primary-surface-color, white);\n",
       "                }\n",
       "            </style>\n",
       "            "
      ],
      "text/plain": [
       "<IPython.core.display.HTML object>"
      ]
     },
     "metadata": {},
     "output_type": "display_data"
    },
    {
     "data": {
      "text/html": [
       "<div>\n",
       "<style scoped>\n",
       "    .dataframe tbody tr th:only-of-type {\n",
       "        vertical-align: middle;\n",
       "    }\n",
       "\n",
       "    .dataframe tbody tr th {\n",
       "        vertical-align: top;\n",
       "    }\n",
       "\n",
       "    .dataframe thead th {\n",
       "        text-align: right;\n",
       "    }\n",
       "</style>\n",
       "<table border=\"1\" class=\"dataframe\">\n",
       "  <thead>\n",
       "    <tr style=\"text-align: right;\">\n",
       "      <th></th>\n",
       "      <th>province</th>\n",
       "      <th>district</th>\n",
       "      <th>block</th>\n",
       "      <th>camp</th>\n",
       "      <th>area_sqkm</th>\n",
       "      <th>area_ha</th>\n",
       "      <th>other_ fea</th>\n",
       "      <th>region</th>\n",
       "      <th>rainfall</th>\n",
       "      <th>growth_per</th>\n",
       "      <th>x</th>\n",
       "      <th>y</th>\n",
       "      <th>geometry</th>\n",
       "    </tr>\n",
       "  </thead>\n",
       "  <tbody>\n",
       "    <tr>\n",
       "      <th>2</th>\n",
       "      <td>Copperbelt</td>\n",
       "      <td>Kalulushi</td>\n",
       "      <td>Chati</td>\n",
       "      <td>Kafubu Depot</td>\n",
       "      <td>244.0</td>\n",
       "      <td>24414.0</td>\n",
       "      <td>None</td>\n",
       "      <td>III</td>\n",
       "      <td>Above 1000mm</td>\n",
       "      <td>120-150 days</td>\n",
       "      <td>27.879169</td>\n",
       "      <td>-12.832888</td>\n",
       "      <td>POINT (27.87917 -12.83289)</td>\n",
       "    </tr>\n",
       "  </tbody>\n",
       "</table>\n",
       "</div>"
      ],
      "text/plain": [
       "     province   district  block          camp  area_sqkm  area_ha other_ fea  \\\n",
       "2  Copperbelt  Kalulushi  Chati  Kafubu Depot      244.0  24414.0       None   \n",
       "\n",
       "  region      rainfall    growth_per          x          y  \\\n",
       "2    III  Above 1000mm  120-150 days  27.879169 -12.832888   \n",
       "\n",
       "                     geometry  \n",
       "2  POINT (27.87917 -12.83289)  "
      ]
     },
     "execution_count": 42,
     "metadata": {},
     "output_type": "execute_result"
    }
   ],
   "source": [
    "selected_camps_gdf = camps_gdf[camps_gdf['camp'] == 'Kafubu Depot'].copy()\n",
    "selected_camps_gdf"
   ]
  },
  {
   "cell_type": "code",
   "execution_count": 20,
   "id": "e24de94f",
   "metadata": {},
   "outputs": [
    {
     "data": {
      "text/html": [
       "\n",
       "            <style>\n",
       "                .geemap-dark {\n",
       "                    --jp-widgets-color: white;\n",
       "                    --jp-widgets-label-color: white;\n",
       "                    --jp-ui-font-color1: white;\n",
       "                    --jp-layout-color2: #454545;\n",
       "                    background-color: #383838;\n",
       "                }\n",
       "\n",
       "                .geemap-dark .jupyter-button {\n",
       "                    --jp-layout-color3: #383838;\n",
       "                }\n",
       "\n",
       "                .geemap-colab {\n",
       "                    background-color: var(--colab-primary-surface-color, white);\n",
       "                }\n",
       "\n",
       "                .geemap-colab .jupyter-button {\n",
       "                    --jp-layout-color3: var(--colab-primary-surface-color, white);\n",
       "                }\n",
       "            </style>\n",
       "            "
      ],
      "text/plain": [
       "<IPython.core.display.HTML object>"
      ]
     },
     "metadata": {},
     "output_type": "display_data"
    }
   ],
   "source": [
    "# Convert GDF to list of EE Features\n",
    "features = []\n",
    "for _, row in selected_camps_gdf.iterrows():\n",
    "    # geom = ee.Geometry.Polygon(row['geometry'].exterior.coords)  # for polygons\n",
    "    geom = ee.Geometry.Point(row['geometry'].x, row['geometry'].y)\n",
    "    feature = ee.Feature(geom)\n",
    "    features.append(feature)"
   ]
  },
  {
   "cell_type": "code",
   "execution_count": 80,
   "id": "89fcee8f",
   "metadata": {},
   "outputs": [
    {
     "data": {
      "text/html": [
       "\n",
       "            <style>\n",
       "                .geemap-dark {\n",
       "                    --jp-widgets-color: white;\n",
       "                    --jp-widgets-label-color: white;\n",
       "                    --jp-ui-font-color1: white;\n",
       "                    --jp-layout-color2: #454545;\n",
       "                    background-color: #383838;\n",
       "                }\n",
       "\n",
       "                .geemap-dark .jupyter-button {\n",
       "                    --jp-layout-color3: #383838;\n",
       "                }\n",
       "\n",
       "                .geemap-colab {\n",
       "                    background-color: var(--colab-primary-surface-color, white);\n",
       "                }\n",
       "\n",
       "                .geemap-colab .jupyter-button {\n",
       "                    --jp-layout-color3: var(--colab-primary-surface-color, white);\n",
       "                }\n",
       "            </style>\n",
       "            "
      ],
      "text/plain": [
       "<IPython.core.display.HTML object>"
      ]
     },
     "metadata": {},
     "output_type": "display_data"
    },
    {
     "name": "stdout",
     "output_type": "stream",
     "text": [
      "491.7490410932563\n"
     ]
    }
   ],
   "source": [
    "# Convert to EE FeatureCollection\n",
    "fc = ee.FeatureCollection(features)\n",
    "\n",
    "# Load raster image\n",
    "image = ee.Image(\"ISDASOIL/Africa/v1/sand_content\") \\\n",
    "    .clip(fc) \\\n",
    "    .select('mean_0_20') \\\n",
    "    # .rename('Carbon Organic')\n",
    "\n",
    "# sampled = image.divide(100)\n",
    "\n",
    "# Sample the raster using the FeatureCollection\n",
    "# You can also use `.reduceRegions()` if you want zonal stats\n",
    "sampled = image.sampleRegions(\n",
    "    collection=fc,\n",
    "    scale=30,\n",
    "    geometries=True\n",
    ")\n",
    "\n",
    "convert = np.exp(sampled.getInfo()['features'][0]['properties']['mean_0_20'] / 10) - 1\n",
    "\n",
    "print(convert)\n",
    "# print(sampled.getInfo()['features'][0]['properties'])"
   ]
  },
  {
   "cell_type": "code",
   "execution_count": 81,
   "id": "425ab29a",
   "metadata": {},
   "outputs": [
    {
     "data": {
      "text/html": [
       "\n",
       "            <style>\n",
       "                .geemap-dark {\n",
       "                    --jp-widgets-color: white;\n",
       "                    --jp-widgets-label-color: white;\n",
       "                    --jp-ui-font-color1: white;\n",
       "                    --jp-layout-color2: #454545;\n",
       "                    background-color: #383838;\n",
       "                }\n",
       "\n",
       "                .geemap-dark .jupyter-button {\n",
       "                    --jp-layout-color3: #383838;\n",
       "                }\n",
       "\n",
       "                .geemap-colab {\n",
       "                    background-color: var(--colab-primary-surface-color, white);\n",
       "                }\n",
       "\n",
       "                .geemap-colab .jupyter-button {\n",
       "                    --jp-layout-color3: var(--colab-primary-surface-color, white);\n",
       "                }\n",
       "            </style>\n",
       "            "
      ],
      "text/plain": [
       "<IPython.core.display.HTML object>"
      ]
     },
     "metadata": {},
     "output_type": "display_data"
    },
    {
     "name": "stdout",
     "output_type": "stream",
     "text": [
      "{'mean_0_20': 62}\n"
     ]
    }
   ],
   "source": [
    "# Print some results\n",
    "print(sampled.getInfo()['features'][0]['properties'])\n",
    "\n",
    "# Export to Google Drive\n",
    "# task = ee.batch.Export.table.toDrive(\n",
    "#     collection=sampled,\n",
    "#     description='sampled_values',\n",
    "#     fileFormat='CSV'\n",
    "# )\n",
    "# task.start()"
   ]
  }
 ],
 "metadata": {
  "kernelspec": {
   "display_name": "geoProg",
   "language": "python",
   "name": "python3"
  },
  "language_info": {
   "codemirror_mode": {
    "name": "ipython",
    "version": 3
   },
   "file_extension": ".py",
   "mimetype": "text/x-python",
   "name": "python",
   "nbconvert_exporter": "python",
   "pygments_lexer": "ipython3",
   "version": "3.11.11"
  }
 },
 "nbformat": 4,
 "nbformat_minor": 5
}
