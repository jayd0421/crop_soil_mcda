{
 "cells": [
  {
   "cell_type": "code",
   "execution_count": 1,
   "id": "50f1f9b7",
   "metadata": {},
   "outputs": [],
   "source": [
    "# Import modules\n",
    "import ee\n",
    "import geemap\n",
    "import geopandas as gpd\n",
    "import numpy as np"
   ]
  },
  {
   "cell_type": "code",
   "execution_count": 2,
   "id": "42d95ae3",
   "metadata": {},
   "outputs": [
    {
     "data": {
      "text/html": [
       "\n",
       "            <style>\n",
       "                .geemap-dark {\n",
       "                    --jp-widgets-color: white;\n",
       "                    --jp-widgets-label-color: white;\n",
       "                    --jp-ui-font-color1: white;\n",
       "                    --jp-layout-color2: #454545;\n",
       "                    background-color: #383838;\n",
       "                }\n",
       "\n",
       "                .geemap-dark .jupyter-button {\n",
       "                    --jp-layout-color3: #383838;\n",
       "                }\n",
       "\n",
       "                .geemap-colab {\n",
       "                    background-color: var(--colab-primary-surface-color, white);\n",
       "                }\n",
       "\n",
       "                .geemap-colab .jupyter-button {\n",
       "                    --jp-layout-color3: var(--colab-primary-surface-color, white);\n",
       "                }\n",
       "            </style>\n",
       "            "
      ],
      "text/plain": [
       "<IPython.core.display.HTML object>"
      ]
     },
     "metadata": {},
     "output_type": "display_data"
    }
   ],
   "source": [
    "# Initialize Earth Engine\n",
    "try:\n",
    "    ee.Initialize()\n",
    "except ee.EEException:\n",
    "    ee.Authenticate()"
   ]
  },
  {
   "cell_type": "code",
   "execution_count": 7,
   "id": "c5af1f24",
   "metadata": {},
   "outputs": [
    {
     "data": {
      "text/html": [
       "\n",
       "            <style>\n",
       "                .geemap-dark {\n",
       "                    --jp-widgets-color: white;\n",
       "                    --jp-widgets-label-color: white;\n",
       "                    --jp-ui-font-color1: white;\n",
       "                    --jp-layout-color2: #454545;\n",
       "                    background-color: #383838;\n",
       "                }\n",
       "\n",
       "                .geemap-dark .jupyter-button {\n",
       "                    --jp-layout-color3: #383838;\n",
       "                }\n",
       "\n",
       "                .geemap-colab {\n",
       "                    background-color: var(--colab-primary-surface-color, white);\n",
       "                }\n",
       "\n",
       "                .geemap-colab .jupyter-button {\n",
       "                    --jp-layout-color3: var(--colab-primary-surface-color, white);\n",
       "                }\n",
       "            </style>\n",
       "            "
      ],
      "text/plain": [
       "<IPython.core.display.HTML object>"
      ]
     },
     "metadata": {},
     "output_type": "display_data"
    }
   ],
   "source": [
    "# Open source table as a dataframe\n",
    "country_gpkg = r\"data\\zambia_boundary.gpkg\"\n",
    "country_gdf = gpd.read_file(country_gpkg)\n",
    "\n",
    "# Preview the data\n",
    "# country_gdf.head()"
   ]
  },
  {
   "cell_type": "code",
   "execution_count": null,
   "id": "d4c3fbdd",
   "metadata": {},
   "outputs": [
    {
     "data": {
      "text/html": [
       "\n",
       "            <style>\n",
       "                .geemap-dark {\n",
       "                    --jp-widgets-color: white;\n",
       "                    --jp-widgets-label-color: white;\n",
       "                    --jp-ui-font-color1: white;\n",
       "                    --jp-layout-color2: #454545;\n",
       "                    background-color: #383838;\n",
       "                }\n",
       "\n",
       "                .geemap-dark .jupyter-button {\n",
       "                    --jp-layout-color3: #383838;\n",
       "                }\n",
       "\n",
       "                .geemap-colab {\n",
       "                    background-color: var(--colab-primary-surface-color, white);\n",
       "                }\n",
       "\n",
       "                .geemap-colab .jupyter-button {\n",
       "                    --jp-layout-color3: var(--colab-primary-surface-color, white);\n",
       "                }\n",
       "            </style>\n",
       "            "
      ],
      "text/plain": [
       "<IPython.core.display.HTML object>"
      ]
     },
     "metadata": {},
     "output_type": "display_data"
    }
   ],
   "source": [
    "# Get images for rainy season (Nov to Mar) only\n",
    "def get_rain_season_images(rainfall_dataset, start_year, end_year):\n",
    "    # Create empty image collection\n",
    "    merged_image_collection = ee.ImageCollection([])\n",
    "    \n",
    "    for year in range(start_year, end_year):\n",
    "        # Nov to Dec of current year\n",
    "        start1 = ee.Date(f'{year}-11-01')\n",
    "        end1 = ee.Date(f'{year}-12-31')\n",
    "        season_part1 = rainfall_dataset.filterDate(start1, end1)\n",
    "\n",
    "        # Jan to Mar of following year\n",
    "        start2 = ee.Date(f'{year + 1}-01-01')\n",
    "        end2 = ee.Date(f'{year + 1}-03-31')\n",
    "        season_part2 = rainfall_dataset.filterDate(start2, end2)\n",
    "\n",
    "        # Merge image collection\n",
    "        merged_year_collection = season_part1.merge(season_part2)\n",
    "        merged_image_collection = merged_image_collection.merge(merged_year_collection)\n",
    "\n",
    "    return merged_image_collection"
   ]
  },
  {
   "cell_type": "code",
   "execution_count": 128,
   "id": "31074ee4",
   "metadata": {},
   "outputs": [
    {
     "data": {
      "text/html": [
       "\n",
       "            <style>\n",
       "                .geemap-dark {\n",
       "                    --jp-widgets-color: white;\n",
       "                    --jp-widgets-label-color: white;\n",
       "                    --jp-ui-font-color1: white;\n",
       "                    --jp-layout-color2: #454545;\n",
       "                    background-color: #383838;\n",
       "                }\n",
       "\n",
       "                .geemap-dark .jupyter-button {\n",
       "                    --jp-layout-color3: #383838;\n",
       "                }\n",
       "\n",
       "                .geemap-colab {\n",
       "                    background-color: var(--colab-primary-surface-color, white);\n",
       "                }\n",
       "\n",
       "                .geemap-colab .jupyter-button {\n",
       "                    --jp-layout-color3: var(--colab-primary-surface-color, white);\n",
       "                }\n",
       "            </style>\n",
       "            "
      ],
      "text/plain": [
       "<IPython.core.display.HTML object>"
      ]
     },
     "metadata": {},
     "output_type": "display_data"
    }
   ],
   "source": [
    "def get_avg_rainfall(image_collection, aoi, start_year, end_year):\n",
    "    \n",
    "    no_years = end_year - start_year\n",
    "\n",
    "    # Get images for rainfal season between selected dates\n",
    "    seasonal_rainfall_dataset = get_rain_season_images(image_collection, start_year, end_year)\n",
    "\n",
    "    # Clip images to AOI and compute the mean\n",
    "    avg_rainfall = seasonal_rainfall_dataset.sum() \\\n",
    "                    .divide(no_years) \\\n",
    "                    .clip(aoi)\n",
    "\n",
    "    return avg_rainfall"
   ]
  },
  {
   "cell_type": "code",
   "execution_count": 276,
   "id": "e09e2b16",
   "metadata": {},
   "outputs": [
    {
     "data": {
      "text/html": [
       "\n",
       "            <style>\n",
       "                .geemap-dark {\n",
       "                    --jp-widgets-color: white;\n",
       "                    --jp-widgets-label-color: white;\n",
       "                    --jp-ui-font-color1: white;\n",
       "                    --jp-layout-color2: #454545;\n",
       "                    background-color: #383838;\n",
       "                }\n",
       "\n",
       "                .geemap-dark .jupyter-button {\n",
       "                    --jp-layout-color3: #383838;\n",
       "                }\n",
       "\n",
       "                .geemap-colab {\n",
       "                    background-color: var(--colab-primary-surface-color, white);\n",
       "                }\n",
       "\n",
       "                .geemap-colab .jupyter-button {\n",
       "                    --jp-layout-color3: var(--colab-primary-surface-color, white);\n",
       "                }\n",
       "            </style>\n",
       "            "
      ],
      "text/plain": [
       "<IPython.core.display.HTML object>"
      ]
     },
     "metadata": {},
     "output_type": "display_data"
    }
   ],
   "source": [
    "def get_crop_suitable_rainfall_image(crop, image_collection, aoi, start_year, end_year):\n",
    "    ideal_crop_rainfall = {\n",
    "        'Soybean': [600, 1000],\n",
    "        'Groundnut': [500, 1000],\n",
    "        'Sugarbean': [500, 1000],\n",
    "        'Navybean': [500, 1000],\n",
    "        'Maize': [600, 1200],\n",
    "        'Cowpea': [400, 800],\n",
    "        'Sunflower': [400, 800]\n",
    "    }\n",
    "\n",
    "    # Clean input\n",
    "    crop = crop.strip().replace(\" \",\"\").title()\n",
    "\n",
    "    # Get average rainfall\n",
    "    avg_rainfall = get_avg_rainfall(image_collection, aoi, start_year, end_year)\n",
    "\n",
    "    # Mask out crop suitable rainfall\n",
    "    crop_suitable_rainfall_masked = avg_rainfall \\\n",
    "        .updateMask(avg_rainfall \\\n",
    "        .gte(ideal_crop_rainfall[crop][0]) \\\n",
    "        .And(avg_rainfall.lte(ideal_crop_rainfall[crop][1]))\n",
    "        )\n",
    "    \n",
    "    return crop_suitable_rainfall_masked"
   ]
  },
  {
   "cell_type": "code",
   "execution_count": 287,
   "id": "cd48420a",
   "metadata": {},
   "outputs": [
    {
     "data": {
      "text/html": [
       "\n",
       "            <style>\n",
       "                .geemap-dark {\n",
       "                    --jp-widgets-color: white;\n",
       "                    --jp-widgets-label-color: white;\n",
       "                    --jp-ui-font-color1: white;\n",
       "                    --jp-layout-color2: #454545;\n",
       "                    background-color: #383838;\n",
       "                }\n",
       "\n",
       "                .geemap-dark .jupyter-button {\n",
       "                    --jp-layout-color3: #383838;\n",
       "                }\n",
       "\n",
       "                .geemap-colab {\n",
       "                    background-color: var(--colab-primary-surface-color, white);\n",
       "                }\n",
       "\n",
       "                .geemap-colab .jupyter-button {\n",
       "                    --jp-layout-color3: var(--colab-primary-surface-color, white);\n",
       "                }\n",
       "            </style>\n",
       "            "
      ],
      "text/plain": [
       "<IPython.core.display.HTML object>"
      ]
     },
     "metadata": {},
     "output_type": "display_data"
    }
   ],
   "source": [
    "def get_vis_params(image, aoi):\n",
    "    # reduceRegion to get the minimum avg rainfall in the AOI\n",
    "    min_rainfall = image.reduceRegion(\n",
    "        reducer=ee.Reducer.min(),\n",
    "        geometry=aoi,\n",
    "        scale=5566,  # CHIRPS dataset native resolution\n",
    "        maxPixels=1e8\n",
    "    )\n",
    "\n",
    "    # reduceRegion to get the maximum avg rainfall in the AOI\n",
    "    max_rainfall = image.reduceRegion(\n",
    "    reducer=ee.Reducer.max(),\n",
    "    geometry=aoi,\n",
    "    scale=5566,  # CHIRPS dataset native resolution\n",
    "    maxPixels=1e8\n",
    "    )\n",
    "\n",
    "    # Get the result and print the minimum value\n",
    "    try:\n",
    "        rainfall_min_max = [min_rainfall.getInfo()['precipitation'], \n",
    "                            max_rainfall.getInfo()['precipitation']]\n",
    "        vis_params = {'palette': ['darkred', 'red', \n",
    "                          'white', 'lightblue', 'blue', 'darkblue'],\n",
    "               'min': rainfall_min_max[0], 'max': rainfall_min_max[1]}\n",
    "        \n",
    "    except KeyError:\n",
    "        rainfall_min_max = [min_rainfall.getInfo()['constant'], \n",
    "                            max_rainfall.getInfo()['constant']]\n",
    "        vis_params = {'palette': ['darkred', 'yellow', 'green', 'darkgreen'],\n",
    "                'min': rainfall_min_max[0], 'max': rainfall_min_max[1]}\n",
    "    \n",
    "    return vis_params"
   ]
  },
  {
   "cell_type": "code",
   "execution_count": 288,
   "id": "bb6929b1",
   "metadata": {},
   "outputs": [
    {
     "data": {
      "text/html": [
       "\n",
       "            <style>\n",
       "                .geemap-dark {\n",
       "                    --jp-widgets-color: white;\n",
       "                    --jp-widgets-label-color: white;\n",
       "                    --jp-ui-font-color1: white;\n",
       "                    --jp-layout-color2: #454545;\n",
       "                    background-color: #383838;\n",
       "                }\n",
       "\n",
       "                .geemap-dark .jupyter-button {\n",
       "                    --jp-layout-color3: #383838;\n",
       "                }\n",
       "\n",
       "                .geemap-colab {\n",
       "                    background-color: var(--colab-primary-surface-color, white);\n",
       "                }\n",
       "\n",
       "                .geemap-colab .jupyter-button {\n",
       "                    --jp-layout-color3: var(--colab-primary-surface-color, white);\n",
       "                }\n",
       "            </style>\n",
       "            "
      ],
      "text/plain": [
       "<IPython.core.display.HTML object>"
      ]
     },
     "metadata": {},
     "output_type": "display_data"
    }
   ],
   "source": [
    "# Get weighted rainfall suitability\n",
    "def ranked_rainfall_suitability_image(crop, image, aoi):\n",
    "    rainfall_suitability_ranges = {\n",
    "        'Soybean': [600, 800, 900, 1000],\n",
    "        'Groundnut': [500, 600, 900, 1000],\n",
    "        'Sugarbean': [500, 600, 900, 1000],\n",
    "        'Navybean': [500, 600, 900, 1000],\n",
    "        'Maize': [600, 800, 1000, 1200],\n",
    "        'Cowpea': [400, 550, 700, 800],\n",
    "        'Sunflower': [400, 550, 700, 800]\n",
    "    }\n",
    "\n",
    "    # Clean input\n",
    "    crop = crop.strip().replace(\" \",\"\").title()\n",
    "\n",
    "    # Assign suitability values based on rainfall ranges\n",
    "    suitability_image = ee.Image(0).clip(aoi)  # Default suitability is 0 (no suitability)\n",
    "\n",
    "    # Assign 1, low suitability\n",
    "    suitability_image = suitability_image.where(image.gte(rainfall_suitability_ranges[crop][0]) \\\n",
    "                                                .And(image.lt(rainfall_suitability_ranges[crop][1])), 1)\n",
    "    \n",
    "    # Assign 2, medium suitability\n",
    "    suitability_image = suitability_image.where(image.gte(rainfall_suitability_ranges[crop][1]) \\\n",
    "                                                .And(image.lt(rainfall_suitability_ranges[crop][2])), 2)\n",
    "\n",
    "    # Assign 3, high suitability\n",
    "    suitability_image = suitability_image.where(image.gte(rainfall_suitability_ranges[crop][2]), 3)\n",
    "    \n",
    "    return suitability_image"
   ]
  },
  {
   "cell_type": "code",
   "execution_count": 289,
   "id": "56dc2a0a",
   "metadata": {},
   "outputs": [
    {
     "data": {
      "text/html": [
       "\n",
       "            <style>\n",
       "                .geemap-dark {\n",
       "                    --jp-widgets-color: white;\n",
       "                    --jp-widgets-label-color: white;\n",
       "                    --jp-ui-font-color1: white;\n",
       "                    --jp-layout-color2: #454545;\n",
       "                    background-color: #383838;\n",
       "                }\n",
       "\n",
       "                .geemap-dark .jupyter-button {\n",
       "                    --jp-layout-color3: #383838;\n",
       "                }\n",
       "\n",
       "                .geemap-colab {\n",
       "                    background-color: var(--colab-primary-surface-color, white);\n",
       "                }\n",
       "\n",
       "                .geemap-colab .jupyter-button {\n",
       "                    --jp-layout-color3: var(--colab-primary-surface-color, white);\n",
       "                }\n",
       "            </style>\n",
       "            "
      ],
      "text/plain": [
       "<IPython.core.display.HTML object>"
      ]
     },
     "metadata": {},
     "output_type": "display_data"
    }
   ],
   "source": [
    "# Convert county from gdf to ee\n",
    "country_ee = geemap.gdf_to_ee(country_gdf)\n",
    "\n",
    "# Import rainfall dataset from GEE\n",
    "rainfall_dataset = ee.ImageCollection(\"UCSB-CHG/CHIRPS/PENTAD\") \\\n",
    "            .select('precipitation') \n",
    "\n",
    "start_year, end_year = 2019, 2025\n",
    "\n",
    "crop = \"Maize\"\n",
    "\n",
    "#  Get average rainfall\n",
    "avg_rainfall = get_avg_rainfall(rainfall_dataset, country_ee, start_year, end_year)\n",
    "\n",
    "# Get crop suitable average rainfall\n",
    "suitable_rainfall = get_crop_suitable_rainfall_image(crop, rainfall_dataset, country_ee, start_year, end_year)\n",
    "\n",
    "# Get ranked crop suitable average rainfall\n",
    "ranked_suitable_rainfall = ranked_rainfall_suitability_image(crop, suitable_rainfall, country_ee)\n"
   ]
  },
  {
   "cell_type": "code",
   "execution_count": 290,
   "id": "088911da",
   "metadata": {},
   "outputs": [
    {
     "data": {
      "text/html": [
       "\n",
       "            <style>\n",
       "                .geemap-dark {\n",
       "                    --jp-widgets-color: white;\n",
       "                    --jp-widgets-label-color: white;\n",
       "                    --jp-ui-font-color1: white;\n",
       "                    --jp-layout-color2: #454545;\n",
       "                    background-color: #383838;\n",
       "                }\n",
       "\n",
       "                .geemap-dark .jupyter-button {\n",
       "                    --jp-layout-color3: #383838;\n",
       "                }\n",
       "\n",
       "                .geemap-colab {\n",
       "                    background-color: var(--colab-primary-surface-color, white);\n",
       "                }\n",
       "\n",
       "                .geemap-colab .jupyter-button {\n",
       "                    --jp-layout-color3: var(--colab-primary-surface-color, white);\n",
       "                }\n",
       "            </style>\n",
       "            "
      ],
      "text/plain": [
       "<IPython.core.display.HTML object>"
      ]
     },
     "metadata": {},
     "output_type": "display_data"
    }
   ],
   "source": [
    "# Rainfall visualisastion parameters\n",
    "avg_rainfall_vis_params = get_vis_params(avg_rainfall, country_ee)\n",
    "suitable_rainfall_vis_params = get_vis_params(suitable_rainfall, country_ee)\n",
    "ranked_rainfall_vis_params = get_vis_params(ranked_suitable_rainfall, country_ee)"
   ]
  },
  {
   "cell_type": "code",
   "execution_count": 292,
   "id": "67dd51b8",
   "metadata": {},
   "outputs": [
    {
     "data": {
      "text/html": [
       "\n",
       "            <style>\n",
       "                .geemap-dark {\n",
       "                    --jp-widgets-color: white;\n",
       "                    --jp-widgets-label-color: white;\n",
       "                    --jp-ui-font-color1: white;\n",
       "                    --jp-layout-color2: #454545;\n",
       "                    background-color: #383838;\n",
       "                }\n",
       "\n",
       "                .geemap-dark .jupyter-button {\n",
       "                    --jp-layout-color3: #383838;\n",
       "                }\n",
       "\n",
       "                .geemap-colab {\n",
       "                    background-color: var(--colab-primary-surface-color, white);\n",
       "                }\n",
       "\n",
       "                .geemap-colab .jupyter-button {\n",
       "                    --jp-layout-color3: var(--colab-primary-surface-color, white);\n",
       "                }\n",
       "            </style>\n",
       "            "
      ],
      "text/plain": [
       "<IPython.core.display.HTML object>"
      ]
     },
     "metadata": {},
     "output_type": "display_data"
    },
    {
     "data": {
      "application/vnd.jupyter.widget-view+json": {
       "model_id": "78df048cb7b4454fa3f1bb8183bb2227",
       "version_major": 2,
       "version_minor": 0
      },
      "text/plain": [
       "Map(center=[0, 0], controls=(WidgetControl(options=['position', 'transparent_bg'], widget=SearchDataGUI(childr…"
      ]
     },
     "execution_count": 292,
     "metadata": {},
     "output_type": "execute_result"
    }
   ],
   "source": [
    "# Visualise layers\n",
    "m = geemap.Map()\n",
    "m.zoom_to_gdf(country_gdf)\n",
    "\n",
    "# m.add_layer(country_ee, name= 'Zambia')\n",
    "# m.add_ee_layer(avg_rainfall, vis_params= avg_rainfall_vis_params, name= \"Rainfall\")\n",
    "# m.add_ee_layer(suitable_rainfall, vis_params= suitable_rainfall_vis_params, name= f\"{crop} Suitable Areas\")\n",
    "\n",
    "m.add_ee_layer(ranked_suitable_rainfall, vis_params= ranked_rainfall_vis_params, name= f\"{crop} Suitable Areas\")\n",
    "m.add_colorbar(ranked_rainfall_vis_params, orientation='vertical',  \n",
    "               label= \"Rainfall Suitability\", layer_name= f\"{crop} Rainfall Suitability\")\n",
    "m"
   ]
  }
 ],
 "metadata": {
  "kernelspec": {
   "display_name": "geoProg",
   "language": "python",
   "name": "python3"
  },
  "language_info": {
   "codemirror_mode": {
    "name": "ipython",
    "version": 3
   },
   "file_extension": ".py",
   "mimetype": "text/x-python",
   "name": "python",
   "nbconvert_exporter": "python",
   "pygments_lexer": "ipython3",
   "version": "3.11.11"
  }
 },
 "nbformat": 4,
 "nbformat_minor": 5
}
