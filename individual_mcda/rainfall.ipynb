{
 "cells": [
  {
   "cell_type": "code",
   "execution_count": null,
   "id": "50f1f9b7",
   "metadata": {},
   "outputs": [],
   "source": [
    "# Import modules\n",
    "import ee\n",
    "import geemap\n",
    "import geopandas as gpd"
   ]
  },
  {
   "cell_type": "code",
   "execution_count": null,
   "id": "42d95ae3",
   "metadata": {},
   "outputs": [
    {
     "data": {
      "text/html": [
       "\n",
       "            <style>\n",
       "                .geemap-dark {\n",
       "                    --jp-widgets-color: white;\n",
       "                    --jp-widgets-label-color: white;\n",
       "                    --jp-ui-font-color1: white;\n",
       "                    --jp-layout-color2: #454545;\n",
       "                    background-color: #383838;\n",
       "                }\n",
       "\n",
       "                .geemap-dark .jupyter-button {\n",
       "                    --jp-layout-color3: #383838;\n",
       "                }\n",
       "\n",
       "                .geemap-colab {\n",
       "                    background-color: var(--colab-primary-surface-color, white);\n",
       "                }\n",
       "\n",
       "                .geemap-colab .jupyter-button {\n",
       "                    --jp-layout-color3: var(--colab-primary-surface-color, white);\n",
       "                }\n",
       "            </style>\n",
       "            "
      ],
      "text/plain": [
       "<IPython.core.display.HTML object>"
      ]
     },
     "metadata": {},
     "output_type": "display_data"
    }
   ],
   "source": [
    "# Initialize Earth Engine\n",
    "try:\n",
    "    ee.Initialize()\n",
    "except ee.EEException:\n",
    "    ee.Authenticate()"
   ]
  },
  {
   "cell_type": "code",
   "execution_count": 5,
   "id": "cd48420a",
   "metadata": {},
   "outputs": [
    {
     "data": {
      "text/html": [
       "\n",
       "            <style>\n",
       "                .geemap-dark {\n",
       "                    --jp-widgets-color: white;\n",
       "                    --jp-widgets-label-color: white;\n",
       "                    --jp-ui-font-color1: white;\n",
       "                    --jp-layout-color2: #454545;\n",
       "                    background-color: #383838;\n",
       "                }\n",
       "\n",
       "                .geemap-dark .jupyter-button {\n",
       "                    --jp-layout-color3: #383838;\n",
       "                }\n",
       "\n",
       "                .geemap-colab {\n",
       "                    background-color: var(--colab-primary-surface-color, white);\n",
       "                }\n",
       "\n",
       "                .geemap-colab .jupyter-button {\n",
       "                    --jp-layout-color3: var(--colab-primary-surface-color, white);\n",
       "                }\n",
       "            </style>\n",
       "            "
      ],
      "text/plain": [
       "<IPython.core.display.HTML object>"
      ]
     },
     "metadata": {},
     "output_type": "display_data"
    }
   ],
   "source": [
    "def get_vis_params(image, aoi):\n",
    "    # reduceRegion to get the minimum avg rainfall in the AOI\n",
    "    min_rainfall = image.reduceRegion(\n",
    "        reducer=ee.Reducer.min(),\n",
    "        geometry=aoi,\n",
    "        scale=5566,  # CHIRPS dataset native resolution\n",
    "        maxPixels=1e8\n",
    "    )\n",
    "\n",
    "    # reduceRegion to get the maximum avg rainfall in the AOI\n",
    "    max_rainfall = image.reduceRegion(\n",
    "    reducer=ee.Reducer.max(),\n",
    "    geometry=aoi,\n",
    "    scale=5566,  # CHIRPS dataset native resolution\n",
    "    maxPixels=1e8\n",
    "    )\n",
    "\n",
    "    # Get the result and print the minimum value\n",
    "    try:\n",
    "        rainfall_min_max = [min_rainfall.getInfo()['precipitation'], \n",
    "                            max_rainfall.getInfo()['precipitation']]\n",
    "        vis_params = {'palette': ['darkred', 'red', \n",
    "                          'white', 'lightblue', 'blue', 'darkblue'],\n",
    "               'min': rainfall_min_max[0], 'max': rainfall_min_max[1]}\n",
    "        \n",
    "    except KeyError:\n",
    "        rainfall_min_max = [min_rainfall.getInfo()['constant'], \n",
    "                            max_rainfall.getInfo()['constant']]\n",
    "        vis_params = {'palette': ['darkred', 'yellow', 'green', 'darkgreen'],\n",
    "                'min': rainfall_min_max[0], 'max': rainfall_min_max[1]}\n",
    "    \n",
    "    return vis_params"
   ]
  },
  {
   "cell_type": "code",
   "execution_count": 6,
   "id": "d4c3fbdd",
   "metadata": {},
   "outputs": [
    {
     "data": {
      "text/html": [
       "\n",
       "            <style>\n",
       "                .geemap-dark {\n",
       "                    --jp-widgets-color: white;\n",
       "                    --jp-widgets-label-color: white;\n",
       "                    --jp-ui-font-color1: white;\n",
       "                    --jp-layout-color2: #454545;\n",
       "                    background-color: #383838;\n",
       "                }\n",
       "\n",
       "                .geemap-dark .jupyter-button {\n",
       "                    --jp-layout-color3: #383838;\n",
       "                }\n",
       "\n",
       "                .geemap-colab {\n",
       "                    background-color: var(--colab-primary-surface-color, white);\n",
       "                }\n",
       "\n",
       "                .geemap-colab .jupyter-button {\n",
       "                    --jp-layout-color3: var(--colab-primary-surface-color, white);\n",
       "                }\n",
       "            </style>\n",
       "            "
      ],
      "text/plain": [
       "<IPython.core.display.HTML object>"
      ]
     },
     "metadata": {},
     "output_type": "display_data"
    }
   ],
   "source": [
    "# Get images for rainy season (Nov to Mar) only\n",
    "def get_rain_season_images(rainfall_dataset, start_year, end_year):\n",
    "    # Create empty image collection\n",
    "    merged_image_collection = ee.ImageCollection([])\n",
    "    \n",
    "    for year in range(start_year, end_year):\n",
    "        # Nov to Dec of current year\n",
    "        start1 = ee.Date(f'{year}-11-01')\n",
    "        end1 = ee.Date(f'{year}-12-31')\n",
    "        season_part1 = rainfall_dataset.filterDate(start1, end1)\n",
    "\n",
    "        # Jan to Mar of following year\n",
    "        start2 = ee.Date(f'{year + 1}-01-01')\n",
    "        end2 = ee.Date(f'{year + 1}-03-31')\n",
    "        season_part2 = rainfall_dataset.filterDate(start2, end2)\n",
    "\n",
    "        # Merge image collection\n",
    "        merged_year_collection = season_part1.merge(season_part2)\n",
    "        merged_image_collection = merged_image_collection.merge(merged_year_collection)\n",
    "\n",
    "    return merged_image_collection"
   ]
  },
  {
   "cell_type": "code",
   "execution_count": null,
   "id": "31074ee4",
   "metadata": {},
   "outputs": [
    {
     "data": {
      "text/html": [
       "\n",
       "            <style>\n",
       "                .geemap-dark {\n",
       "                    --jp-widgets-color: white;\n",
       "                    --jp-widgets-label-color: white;\n",
       "                    --jp-ui-font-color1: white;\n",
       "                    --jp-layout-color2: #454545;\n",
       "                    background-color: #383838;\n",
       "                }\n",
       "\n",
       "                .geemap-dark .jupyter-button {\n",
       "                    --jp-layout-color3: #383838;\n",
       "                }\n",
       "\n",
       "                .geemap-colab {\n",
       "                    background-color: var(--colab-primary-surface-color, white);\n",
       "                }\n",
       "\n",
       "                .geemap-colab .jupyter-button {\n",
       "                    --jp-layout-color3: var(--colab-primary-surface-color, white);\n",
       "                }\n",
       "            </style>\n",
       "            "
      ],
      "text/plain": [
       "<IPython.core.display.HTML object>"
      ]
     },
     "metadata": {},
     "output_type": "display_data"
    }
   ],
   "source": [
    "def get_avg_rainfall(start_year, end_year, aoi_ee):\n",
    "    \n",
    "    rainfall_dataset = ee.ImageCollection(\"UCSB-CHG/CHIRPS/PENTAD\") \\\n",
    "            .select('precipitation') \n",
    "    \n",
    "    no_years = end_year - start_year\n",
    "\n",
    "    # Get images for rainfal season between selected dates\n",
    "    seasonal_rainfall_dataset = get_rain_season_images(rainfall_dataset, start_year, end_year)\n",
    "\n",
    "    # Clip images to AOI and compute the mean\n",
    "    avg_rainfall = seasonal_rainfall_dataset.sum() \\\n",
    "                    .divide(no_years) \\\n",
    "                    .clip(aoi_ee)\n",
    "\n",
    "    return avg_rainfall"
   ]
  },
  {
   "cell_type": "code",
   "execution_count": 16,
   "id": "bb6929b1",
   "metadata": {},
   "outputs": [
    {
     "data": {
      "text/html": [
       "\n",
       "            <style>\n",
       "                .geemap-dark {\n",
       "                    --jp-widgets-color: white;\n",
       "                    --jp-widgets-label-color: white;\n",
       "                    --jp-ui-font-color1: white;\n",
       "                    --jp-layout-color2: #454545;\n",
       "                    background-color: #383838;\n",
       "                }\n",
       "\n",
       "                .geemap-dark .jupyter-button {\n",
       "                    --jp-layout-color3: #383838;\n",
       "                }\n",
       "\n",
       "                .geemap-colab {\n",
       "                    background-color: var(--colab-primary-surface-color, white);\n",
       "                }\n",
       "\n",
       "                .geemap-colab .jupyter-button {\n",
       "                    --jp-layout-color3: var(--colab-primary-surface-color, white);\n",
       "                }\n",
       "            </style>\n",
       "            "
      ],
      "text/plain": [
       "<IPython.core.display.HTML object>"
      ]
     },
     "metadata": {},
     "output_type": "display_data"
    }
   ],
   "source": [
    "def get_rainfall_suitability_image(crop, start_year, end_year, aoi_ee):\n",
    "\n",
    "    rainfall_image = get_avg_rainfall(start_year, end_year, aoi_ee,)\n",
    "\n",
    "    suitability_ranges = {\n",
    "        'Soybean':    [(600, 1000, 3), (500, 600, 2), (1000, 1200, 2), (400, 500, 1), (1200, 1300, 1)],\n",
    "        'Groundnut':  [(500, 1000, 3), (400, 500, 2), (1000, 1100, 2), (300, 400, 1), (1100, 1200, 1)],\n",
    "        'Sugarbean':  [(500, 1000, 3), (400, 500, 2), (1000, 1100, 2), (300, 400, 1), (1100, 1200, 1)],\n",
    "        'Navybean':   [(500, 1000, 3), (400, 500, 2), (1000, 1100, 2), (300, 400, 1), (1100, 1200, 1)],\n",
    "        'Maize':      [(600, 1200, 3), (500, 600, 2), (1200, 1300, 2), (400, 500, 1), (1300, 1400, 1)],\n",
    "        'Cowpea':     [(400, 800, 3), (300, 400, 2), (800, 900, 2), (250, 300, 1), (900, 1000, 1)],\n",
    "        'Sunflower':  [(400, 800, 3), (300, 400, 2), (800, 900, 2), (250, 300, 1), (900, 1000, 1)],\n",
    "    }\n",
    "\n",
    "    crop = crop.strip().replace(\" \", \"\").title()\n",
    "    ranges = suitability_ranges[crop]\n",
    "\n",
    "    # Default suitability of 0 (no suitability)\n",
    "    suitability_image = ee.Image(0).clip(aoi_ee)\n",
    "\n",
    "    # Apply suitability levels\n",
    "    for (min_val, max_val, score) in ranges:\n",
    "        mask = rainfall_image.gte(min_val).And(rainfall_image.lt(max_val))\n",
    "        suitability_image = suitability_image.where(mask, score)\n",
    "\n",
    "    return suitability_image\n"
   ]
  },
  {
   "cell_type": "code",
   "execution_count": null,
   "id": "95d50328",
   "metadata": {},
   "outputs": [
    {
     "data": {
      "text/html": [
       "\n",
       "            <style>\n",
       "                .geemap-dark {\n",
       "                    --jp-widgets-color: white;\n",
       "                    --jp-widgets-label-color: white;\n",
       "                    --jp-ui-font-color1: white;\n",
       "                    --jp-layout-color2: #454545;\n",
       "                    background-color: #383838;\n",
       "                }\n",
       "\n",
       "                .geemap-dark .jupyter-button {\n",
       "                    --jp-layout-color3: #383838;\n",
       "                }\n",
       "\n",
       "                .geemap-colab {\n",
       "                    background-color: var(--colab-primary-surface-color, white);\n",
       "                }\n",
       "\n",
       "                .geemap-colab .jupyter-button {\n",
       "                    --jp-layout-color3: var(--colab-primary-surface-color, white);\n",
       "                }\n",
       "            </style>\n",
       "            "
      ],
      "text/plain": [
       "<IPython.core.display.HTML object>"
      ]
     },
     "metadata": {},
     "output_type": "display_data"
    }
   ],
   "source": [
    "# # Open source table as an ee\n",
    "# # country_gpkg = r\"data\\zambia_boundary.gpkg\"\n",
    "# country_gpkg = r\"C:\\Users\\jedid\\Documents\\Code\\github\\crop_soil_mcda\\data\\zambia_boundary.gpkg\"\n",
    "# country_gdf = gpd.read_file(country_gpkg)\n",
    "# country_ee = geemap.gdf_to_ee(country_gdf)\n",
    "\n",
    "# # Preview the data\n",
    "# # country_gdf.head()"
   ]
  },
  {
   "cell_type": "code",
   "execution_count": null,
   "id": "56dc2a0a",
   "metadata": {},
   "outputs": [
    {
     "data": {
      "text/html": [
       "\n",
       "            <style>\n",
       "                .geemap-dark {\n",
       "                    --jp-widgets-color: white;\n",
       "                    --jp-widgets-label-color: white;\n",
       "                    --jp-ui-font-color1: white;\n",
       "                    --jp-layout-color2: #454545;\n",
       "                    background-color: #383838;\n",
       "                }\n",
       "\n",
       "                .geemap-dark .jupyter-button {\n",
       "                    --jp-layout-color3: #383838;\n",
       "                }\n",
       "\n",
       "                .geemap-colab {\n",
       "                    background-color: var(--colab-primary-surface-color, white);\n",
       "                }\n",
       "\n",
       "                .geemap-colab .jupyter-button {\n",
       "                    --jp-layout-color3: var(--colab-primary-surface-color, white);\n",
       "                }\n",
       "            </style>\n",
       "            "
      ],
      "text/plain": [
       "<IPython.core.display.HTML object>"
      ]
     },
     "metadata": {},
     "output_type": "display_data"
    }
   ],
   "source": [
    "# start_year, end_year = 2019, 2025\n",
    "# crop = \"Sunflower\"\n",
    "\n",
    "# #  Get average rainfall\n",
    "# avg_rainfall = get_avg_rainfall(start_year, end_year, country_ee,)\n",
    "\n",
    "\n",
    "# # Get ranked crop suitable average rainfall\n",
    "# ranked_suitable_rainfall = get_rainfall_suitability_image(crop, start_year, end_year, country_ee)\n"
   ]
  },
  {
   "cell_type": "code",
   "execution_count": null,
   "id": "088911da",
   "metadata": {},
   "outputs": [
    {
     "data": {
      "text/html": [
       "\n",
       "            <style>\n",
       "                .geemap-dark {\n",
       "                    --jp-widgets-color: white;\n",
       "                    --jp-widgets-label-color: white;\n",
       "                    --jp-ui-font-color1: white;\n",
       "                    --jp-layout-color2: #454545;\n",
       "                    background-color: #383838;\n",
       "                }\n",
       "\n",
       "                .geemap-dark .jupyter-button {\n",
       "                    --jp-layout-color3: #383838;\n",
       "                }\n",
       "\n",
       "                .geemap-colab {\n",
       "                    background-color: var(--colab-primary-surface-color, white);\n",
       "                }\n",
       "\n",
       "                .geemap-colab .jupyter-button {\n",
       "                    --jp-layout-color3: var(--colab-primary-surface-color, white);\n",
       "                }\n",
       "            </style>\n",
       "            "
      ],
      "text/plain": [
       "<IPython.core.display.HTML object>"
      ]
     },
     "metadata": {},
     "output_type": "display_data"
    }
   ],
   "source": [
    "# # Rainfall visualisastion parameters\n",
    "# # avg_rainfall_vis_params = get_vis_params(avg_rainfall, country_ee)\n",
    "# # suitable_rainfall_vis_params = get_vis_params(suitable_rainfall, country_ee)\n",
    "# ranked_rainfall_vis_params = get_vis_params(ranked_suitable_rainfall, country_ee)"
   ]
  },
  {
   "cell_type": "code",
   "execution_count": null,
   "id": "67dd51b8",
   "metadata": {},
   "outputs": [
    {
     "data": {
      "text/html": [
       "\n",
       "            <style>\n",
       "                .geemap-dark {\n",
       "                    --jp-widgets-color: white;\n",
       "                    --jp-widgets-label-color: white;\n",
       "                    --jp-ui-font-color1: white;\n",
       "                    --jp-layout-color2: #454545;\n",
       "                    background-color: #383838;\n",
       "                }\n",
       "\n",
       "                .geemap-dark .jupyter-button {\n",
       "                    --jp-layout-color3: #383838;\n",
       "                }\n",
       "\n",
       "                .geemap-colab {\n",
       "                    background-color: var(--colab-primary-surface-color, white);\n",
       "                }\n",
       "\n",
       "                .geemap-colab .jupyter-button {\n",
       "                    --jp-layout-color3: var(--colab-primary-surface-color, white);\n",
       "                }\n",
       "            </style>\n",
       "            "
      ],
      "text/plain": [
       "<IPython.core.display.HTML object>"
      ]
     },
     "metadata": {},
     "output_type": "display_data"
    },
    {
     "data": {
      "application/vnd.jupyter.widget-view+json": {
       "model_id": "de95b9d9d5c14be5a7c10210c01ee8bb",
       "version_major": 2,
       "version_minor": 0
      },
      "text/plain": [
       "Map(center=[0, 0], controls=(WidgetControl(options=['position', 'transparent_bg'], widget=SearchDataGUI(childr…"
      ]
     },
     "execution_count": 23,
     "metadata": {},
     "output_type": "execute_result"
    }
   ],
   "source": [
    "# # Visualise layers\n",
    "# m = geemap.Map()\n",
    "# m.zoom_to_gdf(country_gdf)\n",
    "\n",
    "# # m.add_layer(country_ee, name= 'Zambia')\n",
    "# # m.add_ee_layer(avg_rainfall, vis_params= avg_rainfall_vis_params, name= \"Rainfall\")\n",
    "# # m.add_colorbar(avg_rainfall_vis_params, orientation='vertical',  \n",
    "# #                label= \"Avg Rainfall (mm)\", layer_name= \"Rainfall Suitability\")\n",
    "\n",
    "\n",
    "# # m.add_ee_layer(suitable_rainfall, vis_params= suitable_rainfall_vis_params, name= f\"{crop} Suitable Areas\")\n",
    "\n",
    "# m.add_ee_layer(ranked_suitable_rainfall, vis_params= ranked_rainfall_vis_params, name= f\"{crop} Suitable Areas\")\n",
    "# m.add_colorbar(ranked_rainfall_vis_params, orientation='vertical',  \n",
    "#                label= \"Rainfall Suitability\", layer_name= f\"{crop} Rainfall Suitability\")\n",
    "# m"
   ]
  }
 ],
 "metadata": {
  "kernelspec": {
   "display_name": "geoProg",
   "language": "python",
   "name": "python3"
  },
  "language_info": {
   "codemirror_mode": {
    "name": "ipython",
    "version": 3
   },
   "file_extension": ".py",
   "mimetype": "text/x-python",
   "name": "python",
   "nbconvert_exporter": "python",
   "pygments_lexer": "ipython3",
   "version": "3.11.11"
  }
 },
 "nbformat": 4,
 "nbformat_minor": 5
}
