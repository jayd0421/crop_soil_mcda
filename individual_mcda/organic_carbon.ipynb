{
 "cells": [
  {
   "cell_type": "code",
   "execution_count": 28,
   "id": "50f1f9b7",
   "metadata": {},
   "outputs": [
    {
     "data": {
      "text/html": [
       "\n",
       "            <style>\n",
       "                .geemap-dark {\n",
       "                    --jp-widgets-color: white;\n",
       "                    --jp-widgets-label-color: white;\n",
       "                    --jp-ui-font-color1: white;\n",
       "                    --jp-layout-color2: #454545;\n",
       "                    background-color: #383838;\n",
       "                }\n",
       "\n",
       "                .geemap-dark .jupyter-button {\n",
       "                    --jp-layout-color3: #383838;\n",
       "                }\n",
       "\n",
       "                .geemap-colab {\n",
       "                    background-color: var(--colab-primary-surface-color, white);\n",
       "                }\n",
       "\n",
       "                .geemap-colab .jupyter-button {\n",
       "                    --jp-layout-color3: var(--colab-primary-surface-color, white);\n",
       "                }\n",
       "            </style>\n",
       "            "
      ],
      "text/plain": [
       "<IPython.core.display.HTML object>"
      ]
     },
     "metadata": {},
     "output_type": "display_data"
    }
   ],
   "source": [
    "# Import modules\n",
    "import ee\n",
    "import geemap\n",
    "import geopandas as gpd\n",
    "import numpy as np"
   ]
  },
  {
   "cell_type": "code",
   "execution_count": 29,
   "id": "42d95ae3",
   "metadata": {},
   "outputs": [
    {
     "data": {
      "text/html": [
       "\n",
       "            <style>\n",
       "                .geemap-dark {\n",
       "                    --jp-widgets-color: white;\n",
       "                    --jp-widgets-label-color: white;\n",
       "                    --jp-ui-font-color1: white;\n",
       "                    --jp-layout-color2: #454545;\n",
       "                    background-color: #383838;\n",
       "                }\n",
       "\n",
       "                .geemap-dark .jupyter-button {\n",
       "                    --jp-layout-color3: #383838;\n",
       "                }\n",
       "\n",
       "                .geemap-colab {\n",
       "                    background-color: var(--colab-primary-surface-color, white);\n",
       "                }\n",
       "\n",
       "                .geemap-colab .jupyter-button {\n",
       "                    --jp-layout-color3: var(--colab-primary-surface-color, white);\n",
       "                }\n",
       "            </style>\n",
       "            "
      ],
      "text/plain": [
       "<IPython.core.display.HTML object>"
      ]
     },
     "metadata": {},
     "output_type": "display_data"
    }
   ],
   "source": [
    "# Initialize Earth Engine\n",
    "try:\n",
    "    ee.Initialize()\n",
    "except ee.EEException:\n",
    "    ee.Authenticate()"
   ]
  },
  {
   "cell_type": "code",
   "execution_count": null,
   "id": "cd48420a",
   "metadata": {},
   "outputs": [
    {
     "data": {
      "text/html": [
       "\n",
       "            <style>\n",
       "                .geemap-dark {\n",
       "                    --jp-widgets-color: white;\n",
       "                    --jp-widgets-label-color: white;\n",
       "                    --jp-ui-font-color1: white;\n",
       "                    --jp-layout-color2: #454545;\n",
       "                    background-color: #383838;\n",
       "                }\n",
       "\n",
       "                .geemap-dark .jupyter-button {\n",
       "                    --jp-layout-color3: #383838;\n",
       "                }\n",
       "\n",
       "                .geemap-colab {\n",
       "                    background-color: var(--colab-primary-surface-color, white);\n",
       "                }\n",
       "\n",
       "                .geemap-colab .jupyter-button {\n",
       "                    --jp-layout-color3: var(--colab-primary-surface-color, white);\n",
       "                }\n",
       "            </style>\n",
       "            "
      ],
      "text/plain": [
       "<IPython.core.display.HTML object>"
      ]
     },
     "metadata": {},
     "output_type": "display_data"
    }
   ],
   "source": [
    "def get_vis_params(image, aoi_ee):\n",
    "    # reduceRegion to get the minimum carbon_organic in the AOI\n",
    "    min_carbon_organic = image.reduceRegion(\n",
    "        reducer=ee.Reducer.min(),\n",
    "        geometry=aoi_ee,\n",
    "        scale=3000,\n",
    "        maxPixels=9e8\n",
    "    )\n",
    "\n",
    "    # reduceRegion to get the maximum carbon_organic in the AOI\n",
    "    max_carbon_organic = image.reduceRegion(\n",
    "    reducer=ee.Reducer.max(),\n",
    "    geometry=aoi_ee,\n",
    "    scale=3000,\n",
    "    maxPixels=9e8\n",
    "    )\n",
    "\n",
    "    # Get the result and print the minimum value\n",
    "    try:\n",
    "        carbon_organic_min_max = [min_carbon_organic.getInfo()['mean_0_20'], \n",
    "                            max_carbon_organic.getInfo()['mean_0_20']]\n",
    "        vis_params = {'palette': ['darkred', 'red', \n",
    "                          'white', 'lightblue', 'blue', 'darkblue'],\n",
    "               'min': carbon_organic_min_max[0], 'max': carbon_organic_min_max[1]}\n",
    "        \n",
    "    except KeyError:\n",
    "        carbon_organic_min_max = [min_carbon_organic.getInfo()['constant'], \n",
    "                            max_carbon_organic.getInfo()['constant']]\n",
    "        vis_params = {'palette': ['darkred', 'yellow', 'green', 'darkgreen'],\n",
    "                'min': carbon_organic_min_max[0], 'max': carbon_organic_min_max[1]}\n",
    "    \n",
    "    return vis_params"
   ]
  },
  {
   "cell_type": "code",
   "execution_count": null,
   "id": "bc9c4b40",
   "metadata": {},
   "outputs": [],
   "source": [
    "def get_carbon_organic_image(aoi_ee):\n",
    "    # Import carbon_organic dataset from GEE\n",
    "    raw_carbon_organic_dataset = ee.Image(\"ISDASOIL/Africa/v1/carbon_organic\") \\\n",
    "            .select('mean_0_20').clip(aoi_ee)\n",
    "\n",
    "    carbon_organic_dataset = raw_carbon_organic_dataset.divide(10).exp().subtract(1)\n",
    "\n",
    "    return carbon_organic_dataset\n"
   ]
  },
  {
   "cell_type": "code",
   "execution_count": null,
   "id": "bb6929b1",
   "metadata": {},
   "outputs": [
    {
     "data": {
      "text/html": [
       "\n",
       "            <style>\n",
       "                .geemap-dark {\n",
       "                    --jp-widgets-color: white;\n",
       "                    --jp-widgets-label-color: white;\n",
       "                    --jp-ui-font-color1: white;\n",
       "                    --jp-layout-color2: #454545;\n",
       "                    background-color: #383838;\n",
       "                }\n",
       "\n",
       "                .geemap-dark .jupyter-button {\n",
       "                    --jp-layout-color3: #383838;\n",
       "                }\n",
       "\n",
       "                .geemap-colab {\n",
       "                    background-color: var(--colab-primary-surface-color, white);\n",
       "                }\n",
       "\n",
       "                .geemap-colab .jupyter-button {\n",
       "                    --jp-layout-color3: var(--colab-primary-surface-color, white);\n",
       "                }\n",
       "            </style>\n",
       "            "
      ],
      "text/plain": [
       "<IPython.core.display.HTML object>"
      ]
     },
     "metadata": {},
     "output_type": "display_data"
    }
   ],
   "source": [
    "# Get ranked carbon_organic suitability\n",
    "def get_carbon_organic_suitability_image(crop, aoi_ee):\n",
    "    image_dataset = get_carbon_organic_image(aoi_ee)\n",
    "    \n",
    "    suitability_ranges = {\n",
    "        'Soybean':    [(6, None, 3), (4, 6, 2), (2, 4, 1)],\n",
    "        'Groundnut':  [(6, None, 3), (4, 6, 2), (2, 4, 1)],\n",
    "        'Sugarbean':  [(6, None, 3), (4, 6, 2), (2, 4, 1)],\n",
    "        'Navybean':   [(6, None, 3), (4, 6, 2), (2, 4, 1)],\n",
    "        'Maize':      [(6, None, 3), (4, 6, 2), (2, 4, 1)],\n",
    "        'Cowpea':     [(6, None, 3), (4, 6, 2), (2, 4, 1)],\n",
    "        'Sunflower':  [(6, None, 3), (4, 6, 2), (2, 4, 1)],\n",
    "    }\n",
    "\n",
    "    # Standardize crop name input\n",
    "    crop = crop.strip().replace(\" \", \"\").title()\n",
    "    ranges = suitability_ranges[crop]\n",
    "\n",
    "    # Default suitability of 0 (no suitability)\n",
    "    suitability_image = ee.Image(0).clip(aoi_ee)\n",
    "\n",
    "    # Apply suitability levels\n",
    "    for (min_val, max_val, score) in ranges:\n",
    "        if max_val is None:\n",
    "            mask = image_dataset.gte(min_val)\n",
    "        else:\n",
    "            mask = image_dataset.gte(min_val).And(image_dataset.lt(max_val)) \n",
    "\n",
    "        suitability_image = suitability_image.where(mask, score)\n",
    "\n",
    "    return suitability_image"
   ]
  },
  {
   "cell_type": "code",
   "execution_count": null,
   "id": "6c9b2dcc",
   "metadata": {},
   "outputs": [],
   "source": [
    "# Open source table as a dataframe\n",
    "# country_gpkg = r\"data\\zambia_boundary.gpkg\"\n",
    "country_gpkg = r\"C:\\Users\\jedid\\Documents\\Code\\github\\crop_soil_mcda\\data\\zambia_boundary.gpkg\"\n",
    "country_gdf = gpd.read_file(country_gpkg)\n",
    "\n",
    "# Preview the data\n",
    "# country_gdf.head()"
   ]
  },
  {
   "cell_type": "code",
   "execution_count": null,
   "id": "56dc2a0a",
   "metadata": {},
   "outputs": [
    {
     "data": {
      "text/html": [
       "\n",
       "            <style>\n",
       "                .geemap-dark {\n",
       "                    --jp-widgets-color: white;\n",
       "                    --jp-widgets-label-color: white;\n",
       "                    --jp-ui-font-color1: white;\n",
       "                    --jp-layout-color2: #454545;\n",
       "                    background-color: #383838;\n",
       "                }\n",
       "\n",
       "                .geemap-dark .jupyter-button {\n",
       "                    --jp-layout-color3: #383838;\n",
       "                }\n",
       "\n",
       "                .geemap-colab {\n",
       "                    background-color: var(--colab-primary-surface-color, white);\n",
       "                }\n",
       "\n",
       "                .geemap-colab .jupyter-button {\n",
       "                    --jp-layout-color3: var(--colab-primary-surface-color, white);\n",
       "                }\n",
       "            </style>\n",
       "            "
      ],
      "text/plain": [
       "<IPython.core.display.HTML object>"
      ]
     },
     "metadata": {},
     "output_type": "display_data"
    }
   ],
   "source": [
    "# Convert county from gdf to ee\n",
    "country_ee = geemap.gdf_to_ee(country_gdf)\n",
    "\n",
    "# Specify crop\n",
    "crop = \"Groundnut\""
   ]
  },
  {
   "cell_type": "code",
   "execution_count": null,
   "id": "6e6c5247",
   "metadata": {},
   "outputs": [],
   "source": [
    "# Get carbon_organic image\n",
    "carbon_organic_dataset = get_carbon_organic_image(country_ee)\n",
    "\n",
    "# Get ranked crop suitable average carbon_organic\n",
    "ranked_suitable_carbon_organic = get_carbon_organic_suitability_image(crop, country_ee)"
   ]
  },
  {
   "cell_type": "code",
   "execution_count": 34,
   "id": "088911da",
   "metadata": {},
   "outputs": [
    {
     "data": {
      "text/html": [
       "\n",
       "            <style>\n",
       "                .geemap-dark {\n",
       "                    --jp-widgets-color: white;\n",
       "                    --jp-widgets-label-color: white;\n",
       "                    --jp-ui-font-color1: white;\n",
       "                    --jp-layout-color2: #454545;\n",
       "                    background-color: #383838;\n",
       "                }\n",
       "\n",
       "                .geemap-dark .jupyter-button {\n",
       "                    --jp-layout-color3: #383838;\n",
       "                }\n",
       "\n",
       "                .geemap-colab {\n",
       "                    background-color: var(--colab-primary-surface-color, white);\n",
       "                }\n",
       "\n",
       "                .geemap-colab .jupyter-button {\n",
       "                    --jp-layout-color3: var(--colab-primary-surface-color, white);\n",
       "                }\n",
       "            </style>\n",
       "            "
      ],
      "text/plain": [
       "<IPython.core.display.HTML object>"
      ]
     },
     "metadata": {},
     "output_type": "display_data"
    }
   ],
   "source": [
    "# carbon_organic visualisastion parameters\n",
    "carbon_organic_vis_params = get_vis_params(carbon_organic_dataset, country_ee)\n",
    "ranked_carbon_organic_vis_params = get_vis_params(ranked_suitable_carbon_organic, country_ee)"
   ]
  },
  {
   "cell_type": "code",
   "execution_count": 35,
   "id": "67dd51b8",
   "metadata": {},
   "outputs": [
    {
     "data": {
      "text/html": [
       "\n",
       "            <style>\n",
       "                .geemap-dark {\n",
       "                    --jp-widgets-color: white;\n",
       "                    --jp-widgets-label-color: white;\n",
       "                    --jp-ui-font-color1: white;\n",
       "                    --jp-layout-color2: #454545;\n",
       "                    background-color: #383838;\n",
       "                }\n",
       "\n",
       "                .geemap-dark .jupyter-button {\n",
       "                    --jp-layout-color3: #383838;\n",
       "                }\n",
       "\n",
       "                .geemap-colab {\n",
       "                    background-color: var(--colab-primary-surface-color, white);\n",
       "                }\n",
       "\n",
       "                .geemap-colab .jupyter-button {\n",
       "                    --jp-layout-color3: var(--colab-primary-surface-color, white);\n",
       "                }\n",
       "            </style>\n",
       "            "
      ],
      "text/plain": [
       "<IPython.core.display.HTML object>"
      ]
     },
     "metadata": {},
     "output_type": "display_data"
    },
    {
     "data": {
      "application/vnd.jupyter.widget-view+json": {
       "model_id": "4390eca5a620453da4f25001a9abc8a7",
       "version_major": 2,
       "version_minor": 0
      },
      "text/plain": [
       "Map(center=[0, 0], controls=(WidgetControl(options=['position', 'transparent_bg'], widget=SearchDataGUI(childr…"
      ]
     },
     "execution_count": 35,
     "metadata": {},
     "output_type": "execute_result"
    }
   ],
   "source": [
    "# Visualise layers\n",
    "m = geemap.Map()\n",
    "m.zoom_to_gdf(country_gdf)\n",
    "\n",
    "m.add_layer(country_ee, name= 'Zambia')\n",
    "\n",
    "m.add_ee_layer(carbon_organic_dataset, vis_params= carbon_organic_vis_params, name= \"carbon_organic\")\n",
    "m.add_colorbar(carbon_organic_vis_params, orientation='vertical',  \n",
    "               label= \"carbon_organic\", layer_name= f\"carbon_organic\")\n",
    "\n",
    "m.add_ee_layer(ranked_suitable_carbon_organic, vis_params= ranked_carbon_organic_vis_params, name= f\"{crop} carbon_organic Suitability\")\n",
    "# m.add_colorbar(ranked_carbon_organic_vis_params, orientation='vertical',  \n",
    "            #    label= \"carbon_organic Suitability\", layer_name= f\"{crop} carbon_organic Suitability\")\n",
    "m"
   ]
  }
 ],
 "metadata": {
  "kernelspec": {
   "display_name": "geoProg",
   "language": "python",
   "name": "python3"
  },
  "language_info": {
   "codemirror_mode": {
    "name": "ipython",
    "version": 3
   },
   "file_extension": ".py",
   "mimetype": "text/x-python",
   "name": "python",
   "nbconvert_exporter": "python",
   "pygments_lexer": "ipython3",
   "version": "3.11.11"
  }
 },
 "nbformat": 4,
 "nbformat_minor": 5
}
